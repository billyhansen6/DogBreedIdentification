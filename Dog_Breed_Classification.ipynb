{
  "nbformat": 4,
  "nbformat_minor": 0,
  "metadata": {
    "colab": {
      "name": "Dog Breed Classification.ipynb",
      "version": "0.3.2",
      "views": {},
      "default_view": {},
      "provenance": [
        {
          "file_id": "129FC_g64lUwwK3PHuIpOIcl5KO5V7BSD",
          "timestamp": 1525627543649
        },
        {
          "file_id": "1v9IOTkRSdgWfUGTjEI4m5DAAJrt5P6Gs",
          "timestamp": 1525370170764
        }
      ],
      "collapsed_sections": []
    },
    "kernelspec": {
      "name": "python3",
      "display_name": "Python 3"
    },
    "accelerator": "GPU"
  },
  "cells": [
    {
      "metadata": {
        "id": "-squj3OKfcLm",
        "colab_type": "text"
      },
      "cell_type": "markdown",
      "source": [
        "# **Dog Breed Classification Project**"
      ]
    },
    {
      "metadata": {
        "id": "PNktP5abepyK",
        "colab_type": "text"
      },
      "cell_type": "markdown",
      "source": [
        "The objective of this project is to build a model that can classify images of dogs by their respective breed type. The train set includes 10222 photos of dogs, and the test set includes 10357 images of dogs. There is a total of 120 different dog breeds in the photos. "
      ]
    },
    {
      "metadata": {
        "id": "FKPfBkatd6U4",
        "colab_type": "text"
      },
      "cell_type": "markdown",
      "source": [
        "Because I don't have a GPU resource on my computer, I have to use Google Colab to complete this project. The first step is to link this Google Colab script to my Google Drive."
      ]
    },
    {
      "metadata": {
        "id": "yHq5Ymo2iNbS",
        "colab_type": "text"
      },
      "cell_type": "markdown",
      "source": [
        "## Connect Google Colab to Google Drive"
      ]
    },
    {
      "metadata": {
        "id": "0Ms7G7ap_zKj",
        "colab_type": "code",
        "colab": {
          "autoexec": {
            "startup": false,
            "wait_interval": 0
          },
          "base_uri": "https://localhost:8080/",
          "height": 119
        },
        "outputId": "8bfd4cea-3982-4a0b-d933-8ff2e1580b0c",
        "executionInfo": {
          "status": "ok",
          "timestamp": 1525629705431,
          "user_tz": 420,
          "elapsed": 13754,
          "user": {
            "displayName": "Billy Hansen",
            "photoUrl": "https://lh3.googleusercontent.com/a/default-user=s128",
            "userId": "111313721956128051765"
          }
        }
      },
      "cell_type": "code",
      "source": [
        "!apt-get install -y -qq software-properties-common python-software-properties module-init-tools\n",
        "!add-apt-repository -y ppa:alessandro-strada/ppa 2>&1 > /dev/null\n",
        "!apt-get update -qq 2>&1 > /dev/null\n",
        "!apt-get -y install -qq google-drive-ocamlfuse fuse"
      ],
      "execution_count": 5,
      "outputs": [
        {
          "output_type": "stream",
          "text": [
            "gpg: keybox '/tmp/tmppvdhjc_y/pubring.gpg' created\n",
            "gpg: /tmp/tmppvdhjc_y/trustdb.gpg: trustdb created\n",
            "gpg: key AD5F235DF639B041: public key \"Launchpad PPA for Alessandro Strada\" imported\n",
            "gpg: Total number processed: 1\n",
            "gpg:               imported: 1\n",
            "Warning: apt-key output should not be parsed (stdout is not a terminal)\n"
          ],
          "name": "stdout"
        }
      ]
    },
    {
      "metadata": {
        "id": "W7K0Re5JnoKu",
        "colab_type": "code",
        "colab": {
          "autoexec": {
            "startup": false,
            "wait_interval": 0
          }
        }
      },
      "cell_type": "code",
      "source": [
        "from google.colab import auth\n",
        "auth.authenticate_user()"
      ],
      "execution_count": 0,
      "outputs": []
    },
    {
      "metadata": {
        "id": "5YDyWi0aAD6c",
        "colab_type": "code",
        "colab": {
          "autoexec": {
            "startup": false,
            "wait_interval": 0
          },
          "base_uri": "https://localhost:8080/",
          "height": 105
        },
        "outputId": "7296618a-c6b9-4997-b8cb-473796a5ea9e",
        "executionInfo": {
          "status": "ok",
          "timestamp": 1525624856923,
          "user_tz": 420,
          "elapsed": 16114,
          "user": {
            "displayName": "Billy Hansen",
            "photoUrl": "https://lh3.googleusercontent.com/a/default-user=s128",
            "userId": "111313721956128051765"
          }
        }
      },
      "cell_type": "code",
      "source": [
        "from oauth2client.client import GoogleCredentials\n",
        "creds = GoogleCredentials.get_application_default()\n",
        "import getpass\n",
        "!google-drive-ocamlfuse -headless -id={creds.client_id} -secret={creds.client_secret} < /dev/null 2>&1 | grep URL\n",
        "vcode = getpass.getpass()\n",
        "!echo {vcode} | google-drive-ocamlfuse -headless -id={creds.client_id} -secret={creds.client_secret}"
      ],
      "execution_count": 0,
      "outputs": [
        {
          "output_type": "stream",
          "text": [
            "Please, open the following URL in a web browser: https://accounts.google.com/o/oauth2/auth?client_id=32555940559.apps.googleusercontent.com&redirect_uri=urn%3Aietf%3Awg%3Aoauth%3A2.0%3Aoob&scope=https%3A%2F%2Fwww.googleapis.com%2Fauth%2Fdrive&response_type=code&access_type=offline&approval_prompt=force\r\n",
            "··········\n",
            "Please, open the following URL in a web browser: https://accounts.google.com/o/oauth2/auth?client_id=32555940559.apps.googleusercontent.com&redirect_uri=urn%3Aietf%3Awg%3Aoauth%3A2.0%3Aoob&scope=https%3A%2F%2Fwww.googleapis.com%2Fauth%2Fdrive&response_type=code&access_type=offline&approval_prompt=force\n",
            "Please enter the verification code: Access token retrieved correctly.\n"
          ],
          "name": "stdout"
        }
      ]
    },
    {
      "metadata": {
        "id": "LG8gtBiVAZaI",
        "colab_type": "code",
        "colab": {
          "autoexec": {
            "startup": false,
            "wait_interval": 0
          }
        }
      },
      "cell_type": "code",
      "source": [
        "!mkdir -p my_drive\n",
        "!google-drive-ocamlfuse my_drive"
      ],
      "execution_count": 0,
      "outputs": []
    },
    {
      "metadata": {
        "id": "NbOSQ5RGeRPz",
        "colab_type": "text"
      },
      "cell_type": "markdown",
      "source": [
        "## Upload Train Images\n",
        "Now that this script is linked to Google Drive I have to upload all of the relevant files to my Drive. These files include the 10222 train photos of dogs, the 10357 test photos, the labels.csv file and the sample submission.scv file. We'll start with uploading all of the photos in the train dataset."
      ]
    },
    {
      "metadata": {
        "id": "uQ0tspyL-cY9",
        "colab_type": "code",
        "colab": {
          "autoexec": {
            "startup": false,
            "wait_interval": 0
          },
          "base_uri": "https://localhost:8080/",
          "height": 34
        },
        "outputId": "3aaaffda-de94-4b5c-9355-0a72f7a56b3c",
        "executionInfo": {
          "status": "ok",
          "timestamp": 1525634327130,
          "user_tz": 420,
          "elapsed": 519,
          "user": {
            "displayName": "Billy Hansen",
            "photoUrl": "https://lh3.googleusercontent.com/a/default-user=s128",
            "userId": "111313721956128051765"
          }
        }
      },
      "cell_type": "code",
      "source": [
        "# Get working directory\n",
        "import os\n",
        "cwd = os.getcwd()\n",
        "cwd"
      ],
      "execution_count": 77,
      "outputs": [
        {
          "output_type": "execute_result",
          "data": {
            "text/plain": [
              "'/content/my_drive/tut_kaggle'"
            ]
          },
          "metadata": {
            "tags": []
          },
          "execution_count": 77
        }
      ]
    },
    {
      "metadata": {
        "id": "3sx9-8foIVqw",
        "colab_type": "code",
        "colab": {
          "autoexec": {
            "startup": false,
            "wait_interval": 0
          }
        }
      },
      "cell_type": "code",
      "source": [
        "# Enter Proper Directory\n",
        "os.chdir('my_drive')\n",
        "os.chdir('tut_kaggle')\n",
        "os.chdir('train')"
      ],
      "execution_count": 0,
      "outputs": []
    },
    {
      "metadata": {
        "id": "rqp5N_RFEt2V",
        "colab_type": "code",
        "colab": {
          "autoexec": {
            "startup": false,
            "wait_interval": 0
          }
        }
      },
      "cell_type": "code",
      "source": [
        "#Load relevant libraries\n",
        "import matplotlib.pyplot as plt\n",
        "import numpy \n",
        "import cv2\n",
        "import os\n",
        "import glob\n",
        "import time\n",
        "import numpy as np\n",
        "%matplotlib inline"
      ],
      "execution_count": 0,
      "outputs": []
    },
    {
      "metadata": {
        "id": "4VdEvste9rav",
        "colab_type": "code",
        "colab": {
          "autoexec": {
            "startup": false,
            "wait_interval": 0
          }
        }
      },
      "cell_type": "code",
      "source": [
        "# Create files varibale that includes all the .jpg image files in that folder using the glob function.\n",
        "files = sorted(glob.glob('*.jpg'))"
      ],
      "execution_count": 0,
      "outputs": []
    },
    {
      "metadata": {
        "id": "tG-xTAWgDSo9",
        "colab_type": "code",
        "colab": {
          "autoexec": {
            "startup": false,
            "wait_interval": 0
          },
          "base_uri": "https://localhost:8080/",
          "height": 34
        },
        "outputId": "c854b41e-de89-493c-ace4-a41871e5439e",
        "executionInfo": {
          "status": "ok",
          "timestamp": 1525194219494,
          "user_tz": 360,
          "elapsed": 233,
          "user": {
            "displayName": "Billy Hansen",
            "photoUrl": "https://lh3.googleusercontent.com/a/default-user=s128",
            "userId": "111313721956128051765"
          }
        }
      },
      "cell_type": "code",
      "source": [
        "len(files)"
      ],
      "execution_count": 0,
      "outputs": [
        {
          "output_type": "execute_result",
          "data": {
            "text/plain": [
              "10222"
            ]
          },
          "metadata": {
            "tags": []
          },
          "execution_count": 17
        }
      ]
    },
    {
      "metadata": {
        "id": "D5csb7xwDUPg",
        "colab_type": "code",
        "colab": {
          "autoexec": {
            "startup": false,
            "wait_interval": 0
          },
          "base_uri": "https://localhost:8080/",
          "height": 34
        },
        "outputId": "8676394d-5e05-49fb-f312-c07c226a028e",
        "executionInfo": {
          "status": "ok",
          "timestamp": 1525194221885,
          "user_tz": 360,
          "elapsed": 219,
          "user": {
            "displayName": "Billy Hansen",
            "photoUrl": "https://lh3.googleusercontent.com/a/default-user=s128",
            "userId": "111313721956128051765"
          }
        }
      },
      "cell_type": "code",
      "source": [
        "files[0]"
      ],
      "execution_count": 0,
      "outputs": [
        {
          "output_type": "execute_result",
          "data": {
            "text/plain": [
              "'000bec180eb18c7604dcecc8fe0dba07.jpg'"
            ]
          },
          "metadata": {
            "tags": []
          },
          "execution_count": 18
        }
      ]
    },
    {
      "metadata": {
        "id": "MJOIHdsUjqXO",
        "colab_type": "text"
      },
      "cell_type": "markdown",
      "source": [
        "Next we have to upload all of the image files and resize them. I'm choosing to resize them to be 100x100."
      ]
    },
    {
      "metadata": {
        "id": "OWD6dKPrqeJ1",
        "colab_type": "code",
        "colab": {
          "autoexec": {
            "startup": false,
            "wait_interval": 0
          }
        }
      },
      "cell_type": "code",
      "source": [
        "#Upload all the files. This step took about 90 minutes.\n",
        "\n",
        "t0=time.time()\n",
        "\n",
        "def rescale(im):\n",
        "    return cv2.resize(im, (100,100), interpolation = cv2.INTER_AREA)\n",
        "\n",
        "X=[]\n",
        "\n",
        "for files in files:\n",
        "    X.append(rescale(plt.imread(files)))"
      ],
      "execution_count": 0,
      "outputs": []
    },
    {
      "metadata": {
        "id": "z3hyVoUO-LhS",
        "colab_type": "code",
        "colab": {
          "autoexec": {
            "startup": false,
            "wait_interval": 0
          },
          "base_uri": "https://localhost:8080/",
          "height": 34
        },
        "outputId": "26a6919d-b51f-4374-9d17-3e8f6c0778ff",
        "executionInfo": {
          "status": "ok",
          "timestamp": 1525199587941,
          "user_tz": 360,
          "elapsed": 978,
          "user": {
            "displayName": "Billy Hansen",
            "photoUrl": "https://lh3.googleusercontent.com/a/default-user=s128",
            "userId": "111313721956128051765"
          }
        }
      },
      "cell_type": "code",
      "source": [
        "#Format image data into numpy arrays.\n",
        "X = np.array(X)\n",
        "print(X.shape)"
      ],
      "execution_count": 0,
      "outputs": [
        {
          "output_type": "stream",
          "text": [
            "(10222, 100, 100, 3)\n"
          ],
          "name": "stdout"
        }
      ]
    },
    {
      "metadata": {
        "id": "Zp6oY3tPg7F0",
        "colab_type": "text"
      },
      "cell_type": "markdown",
      "source": [
        "The next step is very important when working in Google Colab. Once the images are uploaded and formatted in numpy arrays we want to save the image data into a hdf5 file in our drive. If we don't do this, we will have to restart the upload process everytime we open colab. This is one of the disadvantages to using Google's GPU service, but the workaround below takes care of the problem."
      ]
    },
    {
      "metadata": {
        "id": "sQOTiGG6_uRw",
        "colab_type": "code",
        "colab": {
          "autoexec": {
            "startup": false,
            "wait_interval": 0
          }
        }
      },
      "cell_type": "code",
      "source": [
        "# Creat .hdf5 file with all of the image data included.\n",
        "import h5py\n",
        "with h5py.File('traindata.hdf5','w') as f:\n",
        "    f.create_dataset('X', data=X)"
      ],
      "execution_count": 0,
      "outputs": []
    },
    {
      "metadata": {
        "id": "6nlaMTFlVLpA",
        "colab_type": "code",
        "colab": {
          "autoexec": {
            "startup": false,
            "wait_interval": 0
          }
        }
      },
      "cell_type": "code",
      "source": [
        "#Enter the \"my_drive\" directory.\n",
        "os.chdir('/content/my_drive')"
      ],
      "execution_count": 0,
      "outputs": []
    },
    {
      "metadata": {
        "id": "UHjALAXIhftN",
        "colab_type": "text"
      },
      "cell_type": "markdown",
      "source": [
        "The code below is what calls up the image data we saved in an .hdf5 file, the the upload code above shouldn't be run everytime we log on to colab."
      ]
    },
    {
      "metadata": {
        "id": "Br9NFF7XHdP3",
        "colab_type": "code",
        "colab": {
          "autoexec": {
            "startup": false,
            "wait_interval": 0
          },
          "base_uri": "https://localhost:8080/",
          "height": 34
        },
        "outputId": "df7eb767-1397-4024-b333-ae7857db83d8",
        "executionInfo": {
          "status": "ok",
          "timestamp": 1525634385492,
          "user_tz": 420,
          "elapsed": 9014,
          "user": {
            "displayName": "Billy Hansen",
            "photoUrl": "https://lh3.googleusercontent.com/a/default-user=s128",
            "userId": "111313721956128051765"
          }
        }
      },
      "cell_type": "code",
      "source": [
        "import h5py\n",
        "filename = 'traindata.hdf5'\n",
        "f = h5py.File(filename, 'r')\n",
        "\n",
        "# List all groups\n",
        "print(\"Keys: %s\" % f.keys())\n",
        "a_group_key = list(f.keys())[0]\n",
        "\n",
        "# Get the data\n",
        "data = list(f[a_group_key])"
      ],
      "execution_count": 81,
      "outputs": [
        {
          "output_type": "stream",
          "text": [
            "Keys: KeysView(<HDF5 file \"traindata.hdf5\" (mode r)>)\n"
          ],
          "name": "stdout"
        }
      ]
    },
    {
      "metadata": {
        "id": "LkOmCR1yh2iA",
        "colab_type": "code",
        "colab": {
          "autoexec": {
            "startup": false,
            "wait_interval": 0
          }
        }
      },
      "cell_type": "code",
      "source": [
        "#Re-create numpy array of the data.\n",
        "data = np.array(data)"
      ],
      "execution_count": 0,
      "outputs": []
    },
    {
      "metadata": {
        "id": "40TiY2gOHj4p",
        "colab_type": "code",
        "colab": {
          "autoexec": {
            "startup": false,
            "wait_interval": 0
          }
        }
      },
      "cell_type": "code",
      "source": [
        "import pandas as pd"
      ],
      "execution_count": 0,
      "outputs": []
    },
    {
      "metadata": {
        "id": "yGJHVL51h6vZ",
        "colab_type": "text"
      },
      "cell_type": "markdown",
      "source": [
        "## Image Labels\n",
        "We now have to upload the image labels and append them to our image data."
      ]
    },
    {
      "metadata": {
        "id": "4C9gQJ1xJLHd",
        "colab_type": "code",
        "colab": {
          "autoexec": {
            "startup": false,
            "wait_interval": 0
          }
        }
      },
      "cell_type": "code",
      "source": [
        "os.chdir('/content/my_drive/tut_kaggle/')"
      ],
      "execution_count": 0,
      "outputs": []
    },
    {
      "metadata": {
        "id": "kODOXCFKK381",
        "colab_type": "code",
        "colab": {
          "autoexec": {
            "startup": false,
            "wait_interval": 0
          },
          "base_uri": "https://localhost:8080/",
          "height": 51
        },
        "outputId": "cffa690b-0bb0-4074-f645-3a0c148d5d89",
        "executionInfo": {
          "status": "ok",
          "timestamp": 1525624958702,
          "user_tz": 420,
          "elapsed": 2021,
          "user": {
            "displayName": "Billy Hansen",
            "photoUrl": "https://lh3.googleusercontent.com/a/default-user=s128",
            "userId": "111313721956128051765"
          }
        }
      },
      "cell_type": "code",
      "source": [
        "ls"
      ],
      "execution_count": 0,
      "outputs": [
        {
          "output_type": "stream",
          "text": [
            "labels.csv  sample_submission.csv  testdata2.hdf5  testdata.hdf5\r\n",
            "\u001b[0m\u001b[01;34mmy_drive\u001b[0m/   submission2.csv        testdata3.hdf5  \u001b[01;34mtrain\u001b[0m/\r\n"
          ],
          "name": "stdout"
        }
      ]
    },
    {
      "metadata": {
        "id": "vxrejHuVK9gB",
        "colab_type": "code",
        "colab": {
          "autoexec": {
            "startup": false,
            "wait_interval": 0
          }
        }
      },
      "cell_type": "code",
      "source": [
        "# Upload labels csv\n",
        "labels = pd.read_csv('labels.csv')"
      ],
      "execution_count": 0,
      "outputs": []
    },
    {
      "metadata": {
        "id": "wt19SNM6LFcC",
        "colab_type": "code",
        "colab": {
          "autoexec": {
            "startup": false,
            "wait_interval": 0
          },
          "base_uri": "https://localhost:8080/",
          "height": 204
        },
        "outputId": "46a340e5-485c-452a-9de7-3114459080b3",
        "executionInfo": {
          "status": "ok",
          "timestamp": 1525624963916,
          "user_tz": 420,
          "elapsed": 447,
          "user": {
            "displayName": "Billy Hansen",
            "photoUrl": "https://lh3.googleusercontent.com/a/default-user=s128",
            "userId": "111313721956128051765"
          }
        }
      },
      "cell_type": "code",
      "source": [
        "labels.head(5)"
      ],
      "execution_count": 0,
      "outputs": [
        {
          "output_type": "execute_result",
          "data": {
            "text/html": [
              "<div>\n",
              "<style scoped>\n",
              "    .dataframe tbody tr th:only-of-type {\n",
              "        vertical-align: middle;\n",
              "    }\n",
              "\n",
              "    .dataframe tbody tr th {\n",
              "        vertical-align: top;\n",
              "    }\n",
              "\n",
              "    .dataframe thead th {\n",
              "        text-align: right;\n",
              "    }\n",
              "</style>\n",
              "<table border=\"1\" class=\"dataframe\">\n",
              "  <thead>\n",
              "    <tr style=\"text-align: right;\">\n",
              "      <th></th>\n",
              "      <th>id</th>\n",
              "      <th>breed</th>\n",
              "    </tr>\n",
              "  </thead>\n",
              "  <tbody>\n",
              "    <tr>\n",
              "      <th>0</th>\n",
              "      <td>000bec180eb18c7604dcecc8fe0dba07</td>\n",
              "      <td>boston_bull</td>\n",
              "    </tr>\n",
              "    <tr>\n",
              "      <th>1</th>\n",
              "      <td>001513dfcb2ffafc82cccf4d8bbaba97</td>\n",
              "      <td>dingo</td>\n",
              "    </tr>\n",
              "    <tr>\n",
              "      <th>2</th>\n",
              "      <td>001cdf01b096e06d78e9e5112d419397</td>\n",
              "      <td>pekinese</td>\n",
              "    </tr>\n",
              "    <tr>\n",
              "      <th>3</th>\n",
              "      <td>00214f311d5d2247d5dfe4fe24b2303d</td>\n",
              "      <td>bluetick</td>\n",
              "    </tr>\n",
              "    <tr>\n",
              "      <th>4</th>\n",
              "      <td>0021f9ceb3235effd7fcde7f7538ed62</td>\n",
              "      <td>golden_retriever</td>\n",
              "    </tr>\n",
              "  </tbody>\n",
              "</table>\n",
              "</div>"
            ],
            "text/plain": [
              "                                 id             breed\n",
              "0  000bec180eb18c7604dcecc8fe0dba07       boston_bull\n",
              "1  001513dfcb2ffafc82cccf4d8bbaba97             dingo\n",
              "2  001cdf01b096e06d78e9e5112d419397          pekinese\n",
              "3  00214f311d5d2247d5dfe4fe24b2303d          bluetick\n",
              "4  0021f9ceb3235effd7fcde7f7538ed62  golden_retriever"
            ]
          },
          "metadata": {
            "tags": []
          },
          "execution_count": 15
        }
      ]
    },
    {
      "metadata": {
        "id": "9nCdl93CLXPc",
        "colab_type": "code",
        "colab": {
          "autoexec": {
            "startup": false,
            "wait_interval": 0
          }
        }
      },
      "cell_type": "code",
      "source": [
        "# Create list of all labels\n",
        "breed = labels[\"breed\"]"
      ],
      "execution_count": 0,
      "outputs": []
    },
    {
      "metadata": {
        "id": "5QWrqNbYOD4s",
        "colab_type": "code",
        "colab": {
          "autoexec": {
            "startup": false,
            "wait_interval": 0
          },
          "base_uri": "https://localhost:8080/",
          "height": 34
        },
        "outputId": "2eb973d5-abc2-45f8-f2b8-e2dc575fd275",
        "executionInfo": {
          "status": "ok",
          "timestamp": 1525579532091,
          "user_tz": 420,
          "elapsed": 374,
          "user": {
            "displayName": "Billy Hansen",
            "photoUrl": "https://lh3.googleusercontent.com/a/default-user=s128",
            "userId": "111523816202072068638"
          }
        }
      },
      "cell_type": "code",
      "source": [
        "print(breed.shape)"
      ],
      "execution_count": 0,
      "outputs": [
        {
          "output_type": "stream",
          "text": [
            "(10222,)\n"
          ],
          "name": "stdout"
        }
      ]
    },
    {
      "metadata": {
        "id": "9tTpd2TyOi6p",
        "colab_type": "code",
        "colab": {
          "autoexec": {
            "startup": false,
            "wait_interval": 0
          },
          "base_uri": "https://localhost:8080/",
          "height": 34
        },
        "outputId": "17068974-4aa7-42b2-d69a-19f00388c9f8",
        "executionInfo": {
          "status": "ok",
          "timestamp": 1525579534846,
          "user_tz": 420,
          "elapsed": 338,
          "user": {
            "displayName": "Billy Hansen",
            "photoUrl": "https://lh3.googleusercontent.com/a/default-user=s128",
            "userId": "111523816202072068638"
          }
        }
      },
      "cell_type": "code",
      "source": [
        "print(breed.dtype)"
      ],
      "execution_count": 0,
      "outputs": [
        {
          "output_type": "stream",
          "text": [
            "object\n"
          ],
          "name": "stdout"
        }
      ]
    },
    {
      "metadata": {
        "id": "jM91DV6FOtpB",
        "colab_type": "code",
        "colab": {
          "autoexec": {
            "startup": false,
            "wait_interval": 0
          }
        }
      },
      "cell_type": "code",
      "source": [
        "# Create list of unique labels\n",
        "uniquelabels = []\n",
        "for i in breed:\n",
        "  if i not in uniquelabels:\n",
        "    uniquelabels.append(i)"
      ],
      "execution_count": 0,
      "outputs": []
    },
    {
      "metadata": {
        "id": "8hIX_9IcPWHc",
        "colab_type": "code",
        "colab": {
          "autoexec": {
            "startup": false,
            "wait_interval": 0
          },
          "base_uri": "https://localhost:8080/",
          "height": 34
        },
        "outputId": "fa591571-c9be-4ed4-a131-4dcefae56bb8",
        "executionInfo": {
          "status": "ok",
          "timestamp": 1525562594732,
          "user_tz": 360,
          "elapsed": 307,
          "user": {
            "displayName": "Billy Hansen",
            "photoUrl": "https://lh3.googleusercontent.com/a/default-user=s128",
            "userId": "111523816202072068638"
          }
        }
      },
      "cell_type": "code",
      "source": [
        "uniquelabels[6]"
      ],
      "execution_count": 0,
      "outputs": [
        {
          "output_type": "execute_result",
          "data": {
            "text/plain": [
              "'borzoi'"
            ]
          },
          "metadata": {
            "tags": []
          },
          "execution_count": 20
        }
      ]
    },
    {
      "metadata": {
        "id": "x3Xidlf7Pe0k",
        "colab_type": "code",
        "colab": {
          "autoexec": {
            "startup": false,
            "wait_interval": 0
          }
        }
      },
      "cell_type": "code",
      "source": [
        "# Create unique label map\n",
        "count = 0\n",
        "uniquelabelMaps = []\n",
        "\n",
        "uniquelabels.sort()\n",
        "for i in uniquelabels:\n",
        "  uniquelabelMaps.append([i, count])\n",
        "  count +=1"
      ],
      "execution_count": 0,
      "outputs": []
    },
    {
      "metadata": {
        "id": "-eET-WtvSz_b",
        "colab_type": "code",
        "colab": {
          "autoexec": {
            "startup": false,
            "wait_interval": 0
          },
          "base_uri": "https://localhost:8080/",
          "height": 34
        },
        "outputId": "fe275a09-a813-48e7-dd53-a65f0b69b535",
        "executionInfo": {
          "status": "ok",
          "timestamp": 1525562600032,
          "user_tz": 360,
          "elapsed": 324,
          "user": {
            "displayName": "Billy Hansen",
            "photoUrl": "https://lh3.googleusercontent.com/a/default-user=s128",
            "userId": "111523816202072068638"
          }
        }
      },
      "cell_type": "code",
      "source": [
        "len(uniquelabels)"
      ],
      "execution_count": 0,
      "outputs": [
        {
          "output_type": "execute_result",
          "data": {
            "text/plain": [
              "120"
            ]
          },
          "metadata": {
            "tags": []
          },
          "execution_count": 22
        }
      ]
    },
    {
      "metadata": {
        "id": "1NtTbMDieEHb",
        "colab_type": "code",
        "colab": {
          "autoexec": {
            "startup": false,
            "wait_interval": 0
          },
          "base_uri": "https://localhost:8080/",
          "height": 2057
        },
        "outputId": "471dfea9-724b-464b-e045-997e226c3b02",
        "executionInfo": {
          "status": "ok",
          "timestamp": 1525563929350,
          "user_tz": 360,
          "elapsed": 441,
          "user": {
            "displayName": "Billy Hansen",
            "photoUrl": "https://lh3.googleusercontent.com/a/default-user=s128",
            "userId": "111523816202072068638"
          }
        }
      },
      "cell_type": "code",
      "source": [
        "uniquelabels"
      ],
      "execution_count": 0,
      "outputs": [
        {
          "output_type": "execute_result",
          "data": {
            "text/plain": [
              "['affenpinscher',\n",
              " 'afghan_hound',\n",
              " 'african_hunting_dog',\n",
              " 'airedale',\n",
              " 'american_staffordshire_terrier',\n",
              " 'appenzeller',\n",
              " 'australian_terrier',\n",
              " 'basenji',\n",
              " 'basset',\n",
              " 'beagle',\n",
              " 'bedlington_terrier',\n",
              " 'bernese_mountain_dog',\n",
              " 'black-and-tan_coonhound',\n",
              " 'blenheim_spaniel',\n",
              " 'bloodhound',\n",
              " 'bluetick',\n",
              " 'border_collie',\n",
              " 'border_terrier',\n",
              " 'borzoi',\n",
              " 'boston_bull',\n",
              " 'bouvier_des_flandres',\n",
              " 'boxer',\n",
              " 'brabancon_griffon',\n",
              " 'briard',\n",
              " 'brittany_spaniel',\n",
              " 'bull_mastiff',\n",
              " 'cairn',\n",
              " 'cardigan',\n",
              " 'chesapeake_bay_retriever',\n",
              " 'chihuahua',\n",
              " 'chow',\n",
              " 'clumber',\n",
              " 'cocker_spaniel',\n",
              " 'collie',\n",
              " 'curly-coated_retriever',\n",
              " 'dandie_dinmont',\n",
              " 'dhole',\n",
              " 'dingo',\n",
              " 'doberman',\n",
              " 'english_foxhound',\n",
              " 'english_setter',\n",
              " 'english_springer',\n",
              " 'entlebucher',\n",
              " 'eskimo_dog',\n",
              " 'flat-coated_retriever',\n",
              " 'french_bulldog',\n",
              " 'german_shepherd',\n",
              " 'german_short-haired_pointer',\n",
              " 'giant_schnauzer',\n",
              " 'golden_retriever',\n",
              " 'gordon_setter',\n",
              " 'great_dane',\n",
              " 'great_pyrenees',\n",
              " 'greater_swiss_mountain_dog',\n",
              " 'groenendael',\n",
              " 'ibizan_hound',\n",
              " 'irish_setter',\n",
              " 'irish_terrier',\n",
              " 'irish_water_spaniel',\n",
              " 'irish_wolfhound',\n",
              " 'italian_greyhound',\n",
              " 'japanese_spaniel',\n",
              " 'keeshond',\n",
              " 'kelpie',\n",
              " 'kerry_blue_terrier',\n",
              " 'komondor',\n",
              " 'kuvasz',\n",
              " 'labrador_retriever',\n",
              " 'lakeland_terrier',\n",
              " 'leonberg',\n",
              " 'lhasa',\n",
              " 'malamute',\n",
              " 'malinois',\n",
              " 'maltese_dog',\n",
              " 'mexican_hairless',\n",
              " 'miniature_pinscher',\n",
              " 'miniature_poodle',\n",
              " 'miniature_schnauzer',\n",
              " 'newfoundland',\n",
              " 'norfolk_terrier',\n",
              " 'norwegian_elkhound',\n",
              " 'norwich_terrier',\n",
              " 'old_english_sheepdog',\n",
              " 'otterhound',\n",
              " 'papillon',\n",
              " 'pekinese',\n",
              " 'pembroke',\n",
              " 'pomeranian',\n",
              " 'pug',\n",
              " 'redbone',\n",
              " 'rhodesian_ridgeback',\n",
              " 'rottweiler',\n",
              " 'saint_bernard',\n",
              " 'saluki',\n",
              " 'samoyed',\n",
              " 'schipperke',\n",
              " 'scotch_terrier',\n",
              " 'scottish_deerhound',\n",
              " 'sealyham_terrier',\n",
              " 'shetland_sheepdog',\n",
              " 'shih-tzu',\n",
              " 'siberian_husky',\n",
              " 'silky_terrier',\n",
              " 'soft-coated_wheaten_terrier',\n",
              " 'staffordshire_bullterrier',\n",
              " 'standard_poodle',\n",
              " 'standard_schnauzer',\n",
              " 'sussex_spaniel',\n",
              " 'tibetan_mastiff',\n",
              " 'tibetan_terrier',\n",
              " 'toy_poodle',\n",
              " 'toy_terrier',\n",
              " 'vizsla',\n",
              " 'walker_hound',\n",
              " 'weimaraner',\n",
              " 'welsh_springer_spaniel',\n",
              " 'west_highland_white_terrier',\n",
              " 'whippet',\n",
              " 'wire-haired_fox_terrier',\n",
              " 'yorkshire_terrier']"
            ]
          },
          "metadata": {
            "tags": []
          },
          "execution_count": 96
        }
      ]
    },
    {
      "metadata": {
        "id": "gXjYwEeaUBle",
        "colab_type": "code",
        "colab": {
          "autoexec": {
            "startup": false,
            "wait_interval": 0
          },
          "base_uri": "https://localhost:8080/",
          "height": 34
        },
        "outputId": "9d1db674-01d7-4c5d-e43d-c16cc6c5cc50",
        "executionInfo": {
          "status": "ok",
          "timestamp": 1525370345201,
          "user_tz": 360,
          "elapsed": 263,
          "user": {
            "displayName": "Billy Hansen",
            "photoUrl": "https://lh3.googleusercontent.com/a/default-user=s128",
            "userId": "111523816202072068638"
          }
        }
      },
      "cell_type": "code",
      "source": [
        "len(uniquelabelMaps)"
      ],
      "execution_count": 0,
      "outputs": [
        {
          "output_type": "execute_result",
          "data": {
            "text/plain": [
              "120"
            ]
          },
          "metadata": {
            "tags": []
          },
          "execution_count": 24
        }
      ]
    },
    {
      "metadata": {
        "id": "fXjd9CZ6irOh",
        "colab_type": "text"
      },
      "cell_type": "markdown",
      "source": [
        "As seen above, now have a list of 120 unique labels in alphabetical order. Let's now get a value count of haw many images there are for each cooresponding label."
      ]
    },
    {
      "metadata": {
        "id": "PkXsCp1gS4E6",
        "colab_type": "code",
        "colab": {
          "autoexec": {
            "startup": false,
            "wait_interval": 0
          }
        }
      },
      "cell_type": "code",
      "source": [
        "# Value Counts\n",
        "for i in range(len(breed)):\n",
        "  for j in uniquelabelMaps:\n",
        "    if breed[i] == j[0]:\n",
        "      breed[i] = j[1]\n",
        "      break"
      ],
      "execution_count": 0,
      "outputs": []
    },
    {
      "metadata": {
        "id": "MGfpHlrmY99F",
        "colab_type": "code",
        "colab": {
          "autoexec": {
            "startup": false,
            "wait_interval": 0
          },
          "base_uri": "https://localhost:8080/",
          "height": 1071
        },
        "outputId": "62089e2d-21bc-4f83-e0e0-bfe360e6891e",
        "executionInfo": {
          "status": "ok",
          "timestamp": 1525370360286,
          "user_tz": 360,
          "elapsed": 289,
          "user": {
            "displayName": "Billy Hansen",
            "photoUrl": "https://lh3.googleusercontent.com/a/default-user=s128",
            "userId": "111523816202072068638"
          }
        }
      },
      "cell_type": "code",
      "source": [
        "print(breed)"
      ],
      "execution_count": 0,
      "outputs": [
        {
          "output_type": "stream",
          "text": [
            "0         19\n",
            "1         37\n",
            "2         85\n",
            "3         15\n",
            "4         49\n",
            "5         10\n",
            "6         10\n",
            "7         18\n",
            "8          7\n",
            "9         97\n",
            "10        99\n",
            "11       113\n",
            "12        73\n",
            "13        15\n",
            "14        79\n",
            "15         2\n",
            "16       118\n",
            "17        89\n",
            "18        68\n",
            "19        21\n",
            "20        38\n",
            "21        83\n",
            "22        83\n",
            "23        10\n",
            "24        37\n",
            "25        49\n",
            "26       106\n",
            "27        58\n",
            "28        12\n",
            "29        26\n",
            "        ... \n",
            "10192     17\n",
            "10193      5\n",
            "10194    116\n",
            "10195      7\n",
            "10196     21\n",
            "10197      0\n",
            "10198     49\n",
            "10199    117\n",
            "10200     73\n",
            "10201     10\n",
            "10202     98\n",
            "10203      0\n",
            "10204     73\n",
            "10205     41\n",
            "10206     59\n",
            "10207      7\n",
            "10208     39\n",
            "10209    114\n",
            "10210     51\n",
            "10211     56\n",
            "10212    109\n",
            "10213     39\n",
            "10214     23\n",
            "10215      3\n",
            "10216     94\n",
            "10217     18\n",
            "10218     35\n",
            "10219      3\n",
            "10220     75\n",
            "10221     28\n",
            "Name: breed, Length: 10222, dtype: object\n"
          ],
          "name": "stdout"
        }
      ]
    },
    {
      "metadata": {
        "id": "MdiHW929UQsK",
        "colab_type": "code",
        "colab": {
          "autoexec": {
            "startup": false,
            "wait_interval": 0
          },
          "base_uri": "https://localhost:8080/",
          "height": 34
        },
        "outputId": "ee71371b-fc8f-41f6-dc16-2c1835682435",
        "executionInfo": {
          "status": "ok",
          "timestamp": 1525629851865,
          "user_tz": 420,
          "elapsed": 1755,
          "user": {
            "displayName": "Billy Hansen",
            "photoUrl": "https://lh3.googleusercontent.com/a/default-user=s128",
            "userId": "111313721956128051765"
          }
        }
      },
      "cell_type": "code",
      "source": [
        "from keras.utils import to_categorical"
      ],
      "execution_count": 22,
      "outputs": [
        {
          "output_type": "stream",
          "text": [
            "Using TensorFlow backend.\n"
          ],
          "name": "stderr"
        }
      ]
    },
    {
      "metadata": {
        "id": "t-NMliHRUsfb",
        "colab_type": "code",
        "colab": {
          "autoexec": {
            "startup": false,
            "wait_interval": 0
          }
        }
      },
      "cell_type": "code",
      "source": [
        "# Create Categorical Dummy Variables for each label.\n",
        "breed = to_categorical(breed)"
      ],
      "execution_count": 0,
      "outputs": []
    },
    {
      "metadata": {
        "id": "qn38axXkbXRD",
        "colab_type": "code",
        "colab": {
          "autoexec": {
            "startup": false,
            "wait_interval": 0
          },
          "base_uri": "https://localhost:8080/",
          "height": 34
        },
        "outputId": "9c43a156-70ac-4f05-a0ab-3890286d0626",
        "executionInfo": {
          "status": "ok",
          "timestamp": 1525563944263,
          "user_tz": 360,
          "elapsed": 403,
          "user": {
            "displayName": "Billy Hansen",
            "photoUrl": "https://lh3.googleusercontent.com/a/default-user=s128",
            "userId": "111523816202072068638"
          }
        }
      },
      "cell_type": "code",
      "source": [
        "breed.shape"
      ],
      "execution_count": 0,
      "outputs": [
        {
          "output_type": "execute_result",
          "data": {
            "text/plain": [
              "(10222, 120)"
            ]
          },
          "metadata": {
            "tags": []
          },
          "execution_count": 99
        }
      ]
    },
    {
      "metadata": {
        "id": "xuQmC9b2jRGh",
        "colab_type": "code",
        "colab": {
          "autoexec": {
            "startup": false,
            "wait_interval": 0
          }
        }
      },
      "cell_type": "code",
      "source": [
        "# Create Numpy Array\n",
        "y = np.array(breed)"
      ],
      "execution_count": 0,
      "outputs": []
    },
    {
      "metadata": {
        "id": "wybqVPfejVY3",
        "colab_type": "code",
        "colab": {
          "autoexec": {
            "startup": false,
            "wait_interval": 0
          },
          "base_uri": "https://localhost:8080/",
          "height": 34
        },
        "outputId": "ca1bce3c-375b-4404-c33b-571a2fc31da1",
        "executionInfo": {
          "status": "ok",
          "timestamp": 1525625023267,
          "user_tz": 420,
          "elapsed": 449,
          "user": {
            "displayName": "Billy Hansen",
            "photoUrl": "https://lh3.googleusercontent.com/a/default-user=s128",
            "userId": "111313721956128051765"
          }
        }
      },
      "cell_type": "code",
      "source": [
        "y.shape"
      ],
      "execution_count": 0,
      "outputs": [
        {
          "output_type": "execute_result",
          "data": {
            "text/plain": [
              "(10222, 120)"
            ]
          },
          "metadata": {
            "tags": []
          },
          "execution_count": 23
        }
      ]
    },
    {
      "metadata": {
        "id": "V6PMoUrBjSDo",
        "colab_type": "text"
      },
      "cell_type": "markdown",
      "source": [
        "We now  have a numpy array of 10222 observations of 120 variables. Let's plot a few photos to make sure they turned out okay."
      ]
    },
    {
      "metadata": {
        "id": "NoVmMue8eB_N",
        "colab_type": "code",
        "colab": {
          "autoexec": {
            "startup": false,
            "wait_interval": 0
          }
        }
      },
      "cell_type": "code",
      "source": [
        "import matplotlib.pyplot as plt\n",
        "import numpy \n",
        "import cv2\n",
        "import os\n",
        "import glob\n",
        "import time\n",
        "import numpy as np\n",
        "%matplotlib inline"
      ],
      "execution_count": 0,
      "outputs": []
    },
    {
      "metadata": {
        "id": "mqNfFz7Wdkv5",
        "colab_type": "code",
        "colab": {
          "autoexec": {
            "startup": false,
            "wait_interval": 0
          },
          "base_uri": "https://localhost:8080/",
          "height": 285
        },
        "outputId": "0a942692-c88b-460c-bc5c-c6815e71cc1b",
        "executionInfo": {
          "status": "ok",
          "timestamp": 1525562644263,
          "user_tz": 360,
          "elapsed": 461,
          "user": {
            "displayName": "Billy Hansen",
            "photoUrl": "https://lh3.googleusercontent.com/a/default-user=s128",
            "userId": "111523816202072068638"
          }
        }
      },
      "cell_type": "code",
      "source": [
        "plt.imshow(data[0])"
      ],
      "execution_count": 0,
      "outputs": [
        {
          "output_type": "execute_result",
          "data": {
            "text/plain": [
              "<matplotlib.image.AxesImage at 0x7fc5d6106898>"
            ]
          },
          "metadata": {
            "tags": []
          },
          "execution_count": 31
        },
        {
          "output_type": "display_data",
          "data": {
            "image/png": "[encoded data removed]",
            "text/plain": [
              "<matplotlib.figure.Figure at 0x7fc5d6117e80>"
            ]
          },
          "metadata": {
            "tags": []
          }
        }
      ]
    },
    {
      "metadata": {
        "id": "OXGB-xIFeHaq",
        "colab_type": "code",
        "colab": {
          "autoexec": {
            "startup": false,
            "wait_interval": 0
          },
          "base_uri": "https://localhost:8080/",
          "height": 285
        },
        "outputId": "c9576a6f-9fe3-4f46-f9fe-3f77e95cc629",
        "executionInfo": {
          "status": "ok",
          "timestamp": 1525357870720,
          "user_tz": 360,
          "elapsed": 409,
          "user": {
            "displayName": "Billy Hansen",
            "photoUrl": "https://lh3.googleusercontent.com/a/default-user=s128",
            "userId": "111523816202072068638"
          }
        }
      },
      "cell_type": "code",
      "source": [
        "plt.imshow(data[1])"
      ],
      "execution_count": 0,
      "outputs": [
        {
          "output_type": "execute_result",
          "data": {
            "text/plain": [
              "<matplotlib.image.AxesImage at 0x7f4e1faa70b8>"
            ]
          },
          "metadata": {
            "tags": []
          },
          "execution_count": 34
        },
        {
          "output_type": "display_data",
          "data": {
            "image/png": "[encoded data removed]",
            "text/plain": [
              "<matplotlib.figure.Figure at 0x7f4e21afb6a0>"
            ]
          },
          "metadata": {
            "tags": []
          }
        }
      ]
    },
    {
      "metadata": {
        "id": "X4SWZWVxeKAx",
        "colab_type": "code",
        "colab": {
          "autoexec": {
            "startup": false,
            "wait_interval": 0
          },
          "base_uri": "https://localhost:8080/",
          "height": 285
        },
        "outputId": "c14321f4-bf2e-45cf-aae0-09b5dbafefed",
        "executionInfo": {
          "status": "ok",
          "timestamp": 1525357872806,
          "user_tz": 360,
          "elapsed": 392,
          "user": {
            "displayName": "Billy Hansen",
            "photoUrl": "https://lh3.googleusercontent.com/a/default-user=s128",
            "userId": "111523816202072068638"
          }
        }
      },
      "cell_type": "code",
      "source": [
        "plt.imshow(data[2])"
      ],
      "execution_count": 0,
      "outputs": [
        {
          "output_type": "execute_result",
          "data": {
            "text/plain": [
              "<matplotlib.image.AxesImage at 0x7f4e1fa090f0>"
            ]
          },
          "metadata": {
            "tags": []
          },
          "execution_count": 35
        },
        {
          "output_type": "display_data",
          "data": {
            "image/png": "[encoded data removed]",
            "text/plain": [
              "<matplotlib.figure.Figure at 0x7f4e1fab7358>"
            ]
          },
          "metadata": {
            "tags": []
          }
        }
      ]
    },
    {
      "metadata": {
        "id": "9OnnE22Xj2Ni",
        "colab_type": "text"
      },
      "cell_type": "markdown",
      "source": [
        "## Preprocessing Image Data\n",
        "The dog photos turned out okay. Now let's normalize the image data so our models can run more efficiently."
      ]
    },
    {
      "metadata": {
        "id": "LOZFczaFmnCs",
        "colab_type": "code",
        "colab": {
          "autoexec": {
            "startup": false,
            "wait_interval": 0
          },
          "base_uri": "https://localhost:8080/",
          "height": 34
        },
        "outputId": "5522ff9f-e6a1-44e8-bdc1-117f02c85ee3",
        "executionInfo": {
          "status": "ok",
          "timestamp": 1525634430517,
          "user_tz": 420,
          "elapsed": 455,
          "user": {
            "displayName": "Billy Hansen",
            "photoUrl": "https://lh3.googleusercontent.com/a/default-user=s128",
            "userId": "111313721956128051765"
          }
        }
      },
      "cell_type": "code",
      "source": [
        "# Shuffle the data.\n",
        "ind = np.array(list(range(10222)))\n",
        "np.random.shuffle(ind)\n",
        "print(ind[:10])"
      ],
      "execution_count": 91,
      "outputs": [
        {
          "output_type": "stream",
          "text": [
            "[5196 4162 1612 1228  232 7777 9709 2590 9752  578]\n"
          ],
          "name": "stdout"
        }
      ]
    },
    {
      "metadata": {
        "id": "vAaJrTYsmnUa",
        "colab_type": "code",
        "colab": {
          "autoexec": {
            "startup": false,
            "wait_interval": 0
          }
        }
      },
      "cell_type": "code",
      "source": [
        "Xs = data[ind]\n",
        "Ys = y[ind]"
      ],
      "execution_count": 0,
      "outputs": []
    },
    {
      "metadata": {
        "id": "4Ed6hZO3moOR",
        "colab_type": "code",
        "colab": {
          "autoexec": {
            "startup": false,
            "wait_interval": 0
          }
        }
      },
      "cell_type": "code",
      "source": [
        "# Normalize data.\n",
        "Xs = (Xs-127.5)/255"
      ],
      "execution_count": 0,
      "outputs": []
    },
    {
      "metadata": {
        "id": "dUdFWUormoSD",
        "colab_type": "code",
        "colab": {
          "autoexec": {
            "startup": false,
            "wait_interval": 0
          },
          "base_uri": "https://localhost:8080/",
          "height": 102
        },
        "outputId": "0dbce85a-2798-4434-e9f3-efcaf631cf81",
        "executionInfo": {
          "status": "ok",
          "timestamp": 1525370401979,
          "user_tz": 360,
          "elapsed": 1057,
          "user": {
            "displayName": "Billy Hansen",
            "photoUrl": "https://lh3.googleusercontent.com/a/default-user=s128",
            "userId": "111523816202072068638"
          }
        }
      },
      "cell_type": "code",
      "source": [
        "print(Xs.dtype)\n",
        "print(Xs.mean())\n",
        "print(Xs.max())\n",
        "print(Xs.min())\n",
        "print(Xs.nbytes/10**9)"
      ],
      "execution_count": 0,
      "outputs": [
        {
          "output_type": "stream",
          "text": [
            "float64\n",
            "-0.0596221843313727\n",
            "0.5\n",
            "-0.5\n",
            "2.45328\n"
          ],
          "name": "stdout"
        }
      ]
    },
    {
      "metadata": {
        "id": "j739AVNxmnSJ",
        "colab_type": "code",
        "colab": {
          "autoexec": {
            "startup": false,
            "wait_interval": 0
          },
          "base_uri": "https://localhost:8080/",
          "height": 51
        },
        "outputId": "726f7c06-3ff1-49a2-8e76-1c29d1aaf3ba",
        "executionInfo": {
          "status": "ok",
          "timestamp": 1525634437399,
          "user_tz": 420,
          "elapsed": 1276,
          "user": {
            "displayName": "Billy Hansen",
            "photoUrl": "https://lh3.googleusercontent.com/a/default-user=s128",
            "userId": "111313721956128051765"
          }
        }
      },
      "cell_type": "code",
      "source": [
        "# Change data type to 'float32' to save space.\n",
        "Xs = Xs.astype('float32')\n",
        "print(Xs.dtype)\n",
        "print(Xs.nbytes/10**9)"
      ],
      "execution_count": 94,
      "outputs": [
        {
          "output_type": "stream",
          "text": [
            "float32\n",
            "1.22664\n"
          ],
          "name": "stdout"
        }
      ]
    },
    {
      "metadata": {
        "id": "N_fSaAOgkniU",
        "colab_type": "text"
      },
      "cell_type": "markdown",
      "source": [
        "## Upload Test Data\n",
        "\n",
        "We'll use the same steps as above."
      ]
    },
    {
      "metadata": {
        "id": "gopr3FK6mnGK",
        "colab_type": "code",
        "colab": {
          "autoexec": {
            "startup": false,
            "wait_interval": 0
          }
        }
      },
      "cell_type": "code",
      "source": [
        "# Get relevant directory in Drive\n",
        "os.chdir('/content/my_drive/test')"
      ],
      "execution_count": 0,
      "outputs": []
    },
    {
      "metadata": {
        "id": "1Gn2YKM8gBLN",
        "colab_type": "code",
        "colab": {
          "autoexec": {
            "startup": false,
            "wait_interval": 0
          }
        }
      },
      "cell_type": "code",
      "source": [
        "# Grab image files using glob.\n",
        "files2 = sorted(glob.glob('*.jpg'))"
      ],
      "execution_count": 0,
      "outputs": []
    },
    {
      "metadata": {
        "id": "029q4uO0eTCs",
        "colab_type": "code",
        "colab": {
          "autoexec": {
            "startup": false,
            "wait_interval": 0
          },
          "base_uri": "https://localhost:8080/",
          "height": 34
        },
        "outputId": "2d7973a9-ba14-4525-ca9e-a99f35d656b1",
        "executionInfo": {
          "status": "ok",
          "timestamp": 1525388165832,
          "user_tz": 360,
          "elapsed": 5396941,
          "user": {
            "displayName": "Billy Hansen",
            "photoUrl": "https://lh3.googleusercontent.com/a/default-user=s128",
            "userId": "111523816202072068638"
          }
        }
      },
      "cell_type": "code",
      "source": [
        "# Upload and rescale image data to 100x100, and create .hdf5 file in drive.\n",
        "def rescale(im):\n",
        "  return cv2.resize(im, (100,100), interpolation = cv2.INTER_AREA)\n",
        "\n",
        "X_test=[]\n",
        "\n",
        "for files2 in files2:\n",
        "    X_test.append(rescale(plt.imread(files2)))\n",
        "    \n",
        "X_testy = np.array(X_test)\n",
        "print(X_testy.shape)\n",
        "\n",
        "import h5py\n",
        "with h5py.File('testdata3.hdf5','w') as f:\n",
        "    f.create_dataset('X_test', data=X_testy)"
      ],
      "execution_count": 0,
      "outputs": [
        {
          "output_type": "stream",
          "text": [
            "(10357, 100, 100, 3)\n"
          ],
          "name": "stdout"
        }
      ]
    },
    {
      "metadata": {
        "id": "CL3x5McgBLDm",
        "colab_type": "code",
        "colab": {
          "autoexec": {
            "startup": false,
            "wait_interval": 0
          }
        }
      },
      "cell_type": "code",
      "source": [
        "# Get directory\n",
        "os.chdir('/content/my_drive/tut_kaggle')"
      ],
      "execution_count": 0,
      "outputs": []
    },
    {
      "metadata": {
        "id": "8cJ6f1lTA36_",
        "colab_type": "code",
        "colab": {
          "autoexec": {
            "startup": false,
            "wait_interval": 0
          },
          "base_uri": "https://localhost:8080/",
          "height": 34
        },
        "outputId": "146310a9-d092-4101-a3af-6d4cb0109f2d",
        "executionInfo": {
          "status": "ok",
          "timestamp": 1525634539188,
          "user_tz": 420,
          "elapsed": 8397,
          "user": {
            "displayName": "Billy Hansen",
            "photoUrl": "https://lh3.googleusercontent.com/a/default-user=s128",
            "userId": "111313721956128051765"
          }
        }
      },
      "cell_type": "code",
      "source": [
        "# Upload data from .hdf5 file. (Reminder that this step alone will do the trick when re-opening Colab.)\n",
        "import h5py\n",
        "filename = 'testdata3.hdf5'\n",
        "f = h5py.File(filename, 'r')\n",
        "\n",
        "# List all groups\n",
        "print(\"Keys: %s\" % f.keys())\n",
        "a_group_key = list(f.keys())[0]\n",
        "\n",
        "# Get the data\n",
        "X_testy = list(f[a_group_key])"
      ],
      "execution_count": 98,
      "outputs": [
        {
          "output_type": "stream",
          "text": [
            "Keys: KeysView(<HDF5 file \"testdata3.hdf5\" (mode r)>)\n"
          ],
          "name": "stdout"
        }
      ]
    },
    {
      "metadata": {
        "id": "Jd9jR2wUfc7m",
        "colab_type": "code",
        "colab": {
          "autoexec": {
            "startup": false,
            "wait_interval": 0
          },
          "base_uri": "https://localhost:8080/",
          "height": 34
        },
        "outputId": "8ca7916f-c7d4-46c2-cfad-13a0cf33c321",
        "executionInfo": {
          "status": "ok",
          "timestamp": 1525634556869,
          "user_tz": 420,
          "elapsed": 592,
          "user": {
            "displayName": "Billy Hansen",
            "photoUrl": "https://lh3.googleusercontent.com/a/default-user=s128",
            "userId": "111313721956128051765"
          }
        }
      },
      "cell_type": "code",
      "source": [
        "# Re-Create numpy array\n",
        "X_testy = np.array(X_testy)\n",
        "print(X_testy.shape)"
      ],
      "execution_count": 99,
      "outputs": [
        {
          "output_type": "stream",
          "text": [
            "(10357, 100, 100, 3)\n"
          ],
          "name": "stdout"
        }
      ]
    },
    {
      "metadata": {
        "id": "mMDhm5-DlVdm",
        "colab_type": "text"
      },
      "cell_type": "markdown",
      "source": [
        "## Preprocess test data."
      ]
    },
    {
      "metadata": {
        "id": "_DGZP2_9Le8D",
        "colab_type": "code",
        "colab": {
          "autoexec": {
            "startup": false,
            "wait_interval": 0
          }
        }
      },
      "cell_type": "code",
      "source": [
        "testdatar = X_testy"
      ],
      "execution_count": 0,
      "outputs": []
    },
    {
      "metadata": {
        "id": "ET7p6E1qL0Jk",
        "colab_type": "code",
        "colab": {
          "autoexec": {
            "startup": false,
            "wait_interval": 0
          },
          "base_uri": "https://localhost:8080/",
          "height": 34
        },
        "outputId": "e656782d-6ffa-435e-96a6-7d886ff9991e",
        "executionInfo": {
          "status": "ok",
          "timestamp": 1525625056372,
          "user_tz": 420,
          "elapsed": 454,
          "user": {
            "displayName": "Billy Hansen",
            "photoUrl": "https://lh3.googleusercontent.com/a/default-user=s128",
            "userId": "111313721956128051765"
          }
        }
      },
      "cell_type": "code",
      "source": [
        "testdatar.shape"
      ],
      "execution_count": 0,
      "outputs": [
        {
          "output_type": "execute_result",
          "data": {
            "text/plain": [
              "(10357, 100, 100, 3)"
            ]
          },
          "metadata": {
            "tags": []
          },
          "execution_count": 33
        }
      ]
    },
    {
      "metadata": {
        "id": "wIiLEEPXNgDH",
        "colab_type": "code",
        "colab": {
          "autoexec": {
            "startup": false,
            "wait_interval": 0
          },
          "base_uri": "https://localhost:8080/",
          "height": 34
        },
        "outputId": "fbb1465e-8f4d-4982-8469-c96b98a80330",
        "executionInfo": {
          "status": "ok",
          "timestamp": 1525583744246,
          "user_tz": 420,
          "elapsed": 607,
          "user": {
            "displayName": "Billy Hansen",
            "photoUrl": "https://lh3.googleusercontent.com/a/default-user=s128",
            "userId": "111523816202072068638"
          }
        }
      },
      "cell_type": "code",
      "source": [
        "testdatar.max()"
      ],
      "execution_count": 0,
      "outputs": [
        {
          "output_type": "execute_result",
          "data": {
            "text/plain": [
              "255"
            ]
          },
          "metadata": {
            "tags": []
          },
          "execution_count": 117
        }
      ]
    },
    {
      "metadata": {
        "id": "StWB1079NgMg",
        "colab_type": "code",
        "colab": {
          "autoexec": {
            "startup": false,
            "wait_interval": 0
          }
        }
      },
      "cell_type": "code",
      "source": [
        "# Normalize\n",
        "test = (testdatar-127.5)/255"
      ],
      "execution_count": 0,
      "outputs": []
    },
    {
      "metadata": {
        "id": "wCsXYmcENgI4",
        "colab_type": "code",
        "colab": {
          "autoexec": {
            "startup": false,
            "wait_interval": 0
          },
          "base_uri": "https://localhost:8080/",
          "height": 102
        },
        "outputId": "a390e44e-5d5f-411a-dc69-3afe1ab4a8dd",
        "executionInfo": {
          "status": "ok",
          "timestamp": 1525563983033,
          "user_tz": 360,
          "elapsed": 1211,
          "user": {
            "displayName": "Billy Hansen",
            "photoUrl": "https://lh3.googleusercontent.com/a/default-user=s128",
            "userId": "111523816202072068638"
          }
        }
      },
      "cell_type": "code",
      "source": [
        "print(test.dtype)\n",
        "print(test.mean())\n",
        "print(test.max())\n",
        "print(test.min())\n",
        "print(test.nbytes/10**9)"
      ],
      "execution_count": 0,
      "outputs": [
        {
          "output_type": "stream",
          "text": [
            "float64\n",
            "-0.06071449130107451\n",
            "0.5\n",
            "-0.5\n",
            "2.48568\n"
          ],
          "name": "stdout"
        }
      ]
    },
    {
      "metadata": {
        "id": "OfkaI3f14sIk",
        "colab_type": "code",
        "colab": {
          "autoexec": {
            "startup": false,
            "wait_interval": 0
          },
          "base_uri": "https://localhost:8080/",
          "height": 51
        },
        "outputId": "16a9254d-7f24-43f9-8614-238e96621ed6",
        "executionInfo": {
          "status": "ok",
          "timestamp": 1525634569183,
          "user_tz": 420,
          "elapsed": 859,
          "user": {
            "displayName": "Billy Hansen",
            "photoUrl": "https://lh3.googleusercontent.com/a/default-user=s128",
            "userId": "111313721956128051765"
          }
        }
      },
      "cell_type": "code",
      "source": [
        "# Save space.\n",
        "test = test.astype('float32')\n",
        "print(test.dtype)\n",
        "print(test.nbytes/10**9)"
      ],
      "execution_count": 102,
      "outputs": [
        {
          "output_type": "stream",
          "text": [
            "float32\n",
            "1.24284\n"
          ],
          "name": "stdout"
        }
      ]
    },
    {
      "metadata": {
        "id": "OGgh-Q2vlewj",
        "colab_type": "text"
      },
      "cell_type": "markdown",
      "source": [
        "## Build Model\n",
        "Now that we've proprocessed our data, it's time to build some models to see if we can correctly classify these images."
      ]
    },
    {
      "metadata": {
        "id": "fujKK9mwPNA2",
        "colab_type": "code",
        "colab": {
          "autoexec": {
            "startup": false,
            "wait_interval": 0
          }
        }
      },
      "cell_type": "code",
      "source": [
        "# Import relevant libraries.\n",
        "\n",
        "import time\n",
        "import numpy\n",
        "from keras.datasets import mnist\n",
        "from keras.models import Model\n",
        "from keras.layers import Input, concatenate, Dense, Dropout, Flatten, Activation\n",
        "from keras.layers.convolutional import Conv2D, MaxPooling2D\n",
        "from keras.layers.normalization import BatchNormalization\n",
        "from keras.utils import to_categorical\n",
        "from keras import backend as K\n",
        "from keras.optimizers import Adam\n",
        "from keras.models import Sequential\n",
        "from keras.layers import Dense, Activation\n",
        "import keras\n",
        "import time\n",
        "import numpy\n",
        "from keras.datasets import mnist\n",
        "from keras.models import Model\n",
        "from keras.layers import Input, Concatenate, Dense, Dropout, Flatten, Activation\n",
        "from keras.layers.convolutional import Conv2D, MaxPooling2D\n",
        "from keras.layers.normalization import BatchNormalization\n",
        "from keras.utils import to_categorical\n",
        "from keras import backend as K\n",
        "from keras.optimizers import Adam"
      ],
      "execution_count": 0,
      "outputs": []
    },
    {
      "metadata": {
        "id": "kLnlTp7SmLAr",
        "colab_type": "text"
      },
      "cell_type": "markdown",
      "source": [
        "The first model below is the culmination of many models that I tried and has the best validation accuracy of all of the my sequential model attempts. It includes 7 layers and uses batachnormalization and dropout methods to try to mitigate overfitting."
      ]
    },
    {
      "metadata": {
        "id": "vt6KYKSbODOy",
        "colab_type": "code",
        "colab": {
          "autoexec": {
            "startup": false,
            "wait_interval": 0
          },
          "base_uri": "https://localhost:8080/",
          "height": 1805
        },
        "outputId": "0bf9a387-97cb-41f6-a942-01b2fbe55c5d",
        "executionInfo": {
          "status": "ok",
          "timestamp": 1525625825478,
          "user_tz": 420,
          "elapsed": 666772,
          "user": {
            "displayName": "Billy Hansen",
            "photoUrl": "https://lh3.googleusercontent.com/a/default-user=s128",
            "userId": "111313721956128051765"
          }
        }
      },
      "cell_type": "code",
      "source": [
        "def BN_model():\n",
        "\n",
        "    model = Sequential()\n",
        "    model.add(Conv2D(32, 3, input_shape=(100, 100, 3)))\n",
        "    model.add(BatchNormalization())\n",
        "    model.add(Activation('relu'))\n",
        "    model.add(Conv2D(32, 3))\n",
        "    model.add(BatchNormalization())\n",
        "    model.add(Activation('relu'))\n",
        "    model.add(MaxPooling2D(pool_size=(2, 2)))\n",
        "    model.add(Dropout(0.2))\n",
        "    model.add(Conv2D(16, 3))\n",
        "    model.add(BatchNormalization())\n",
        "    model.add(Activation('relu'))\n",
        "    model.add(Conv2D(16, 3))\n",
        "    model.add(BatchNormalization())\n",
        "    model.add(Activation('relu'))\n",
        "    model.add(MaxPooling2D(pool_size=(2, 2)))\n",
        "    model.add(Dropout(0.5))\n",
        "    model.add(Flatten())\n",
        "    model.add(Dense(256))\n",
        "    model.add(BatchNormalization())\n",
        "    model.add(Activation('relu'))\n",
        "    model.add(Dropout(0.5))\n",
        "    model.add(Dense(120))\n",
        "    model.add(BatchNormalization())\n",
        "    model.add(Activation('relu'))\n",
        "    model.add(Dense(120))\n",
        "    model.add(Activation('softmax'))\n",
        "    model.compile(loss= 'categorical_crossentropy' , optimizer= 'adam' , metrics=[ 'accuracy' ])\n",
        "    return model\n",
        "\n",
        "# build the model\n",
        "model = BN_model()\n",
        "\n",
        "# Fit the model\n",
        "model.fit(Xs, Ys, validation_split=.2, nb_epoch=50, batch_size=200, verbose=2)"
      ],
      "execution_count": 0,
      "outputs": [
        {
          "output_type": "stream",
          "text": [
            "/usr/local/lib/python3.6/dist-packages/keras/models.py:981: UserWarning: The `nb_epoch` argument in `fit` has been renamed `epochs`.\n",
            "  warnings.warn('The `nb_epoch` argument in `fit` '\n"
          ],
          "name": "stderr"
        },
        {
          "output_type": "stream",
          "text": [
            "Train on 8177 samples, validate on 2045 samples\n",
            "Epoch 1/50\n",
            " - 17s - loss: 4.9302 - acc: 0.0117 - val_loss: 4.8550 - val_acc: 0.0240\n",
            "Epoch 2/50\n",
            " - 13s - loss: 4.6568 - acc: 0.0279 - val_loss: 4.5883 - val_acc: 0.0362\n",
            "Epoch 3/50\n",
            " - 13s - loss: 4.4558 - acc: 0.0466 - val_loss: 4.4883 - val_acc: 0.0425\n",
            "Epoch 4/50\n",
            " - 13s - loss: 4.3040 - acc: 0.0611 - val_loss: 4.4142 - val_acc: 0.0411\n",
            "Epoch 5/50\n",
            " - 13s - loss: 4.1614 - acc: 0.0810 - val_loss: 4.3173 - val_acc: 0.0533\n",
            "Epoch 6/50\n",
            " - 13s - loss: 4.0261 - acc: 0.1087 - val_loss: 4.3191 - val_acc: 0.0626\n",
            "Epoch 7/50\n",
            " - 13s - loss: 3.9027 - acc: 0.1263 - val_loss: 4.2514 - val_acc: 0.0587\n",
            "Epoch 8/50\n",
            " - 13s - loss: 3.7842 - acc: 0.1448 - val_loss: 4.2838 - val_acc: 0.0597\n",
            "Epoch 9/50\n",
            " - 13s - loss: 3.6632 - acc: 0.1667 - val_loss: 4.1952 - val_acc: 0.0636\n",
            "Epoch 10/50\n",
            " - 13s - loss: 3.5289 - acc: 0.1936 - val_loss: 4.2072 - val_acc: 0.0626\n",
            "Epoch 11/50\n",
            " - 13s - loss: 3.4153 - acc: 0.2105 - val_loss: 4.1704 - val_acc: 0.0714\n",
            "Epoch 12/50\n",
            " - 13s - loss: 3.2942 - acc: 0.2308 - val_loss: 4.2551 - val_acc: 0.0689\n",
            "Epoch 13/50\n",
            " - 13s - loss: 3.1648 - acc: 0.2578 - val_loss: 4.1977 - val_acc: 0.0689\n",
            "Epoch 14/50\n",
            " - 13s - loss: 3.0470 - acc: 0.2834 - val_loss: 4.2258 - val_acc: 0.0724\n",
            "Epoch 15/50\n",
            " - 13s - loss: 2.9218 - acc: 0.3045 - val_loss: 4.2443 - val_acc: 0.0719\n",
            "Epoch 16/50\n",
            " - 13s - loss: 2.7882 - acc: 0.3390 - val_loss: 4.2790 - val_acc: 0.0660\n",
            "Epoch 17/50\n",
            " - 13s - loss: 2.6772 - acc: 0.3495 - val_loss: 4.3190 - val_acc: 0.0670\n",
            "Epoch 18/50\n",
            " - 13s - loss: 2.5612 - acc: 0.3753 - val_loss: 4.4024 - val_acc: 0.0636\n",
            "Epoch 19/50\n",
            " - 13s - loss: 2.4118 - acc: 0.4146 - val_loss: 4.3508 - val_acc: 0.0714\n",
            "Epoch 20/50\n",
            " - 13s - loss: 2.3201 - acc: 0.4237 - val_loss: 4.3371 - val_acc: 0.0768\n",
            "Epoch 21/50\n",
            " - 13s - loss: 2.1935 - acc: 0.4552 - val_loss: 4.4115 - val_acc: 0.0616\n",
            "Epoch 22/50\n",
            " - 13s - loss: 2.1033 - acc: 0.4766 - val_loss: 4.4393 - val_acc: 0.0763\n",
            "Epoch 23/50\n",
            " - 13s - loss: 2.0030 - acc: 0.4939 - val_loss: 4.4311 - val_acc: 0.0743\n",
            "Epoch 24/50\n",
            " - 13s - loss: 1.9023 - acc: 0.5140 - val_loss: 4.4797 - val_acc: 0.0738\n",
            "Epoch 25/50\n",
            " - 13s - loss: 1.7950 - acc: 0.5413 - val_loss: 4.4960 - val_acc: 0.0670\n",
            "Epoch 26/50\n",
            " - 13s - loss: 1.7149 - acc: 0.5577 - val_loss: 4.5740 - val_acc: 0.0650\n",
            "Epoch 27/50\n",
            " - 13s - loss: 1.6498 - acc: 0.5677 - val_loss: 4.7052 - val_acc: 0.0636\n",
            "Epoch 28/50\n",
            " - 13s - loss: 1.5686 - acc: 0.5924 - val_loss: 4.6377 - val_acc: 0.0743\n",
            "Epoch 29/50\n",
            " - 13s - loss: 1.4979 - acc: 0.6109 - val_loss: 4.7164 - val_acc: 0.0660\n",
            "Epoch 30/50\n",
            " - 13s - loss: 1.4354 - acc: 0.6216 - val_loss: 4.6968 - val_acc: 0.0699\n",
            "Epoch 31/50\n",
            " - 13s - loss: 1.3689 - acc: 0.6401 - val_loss: 4.6970 - val_acc: 0.0704\n",
            "Epoch 32/50\n",
            " - 13s - loss: 1.2860 - acc: 0.6545 - val_loss: 4.7258 - val_acc: 0.0616\n",
            "Epoch 33/50\n",
            " - 13s - loss: 1.2260 - acc: 0.6723 - val_loss: 4.7401 - val_acc: 0.0724\n",
            "Epoch 34/50\n"
          ],
          "name": "stdout"
        },
        {
          "output_type": "stream",
          "text": [
            " - 13s - loss: 1.1884 - acc: 0.6853 - val_loss: 4.8346 - val_acc: 0.0650\n",
            "Epoch 35/50\n",
            " - 13s - loss: 1.1453 - acc: 0.6927 - val_loss: 4.8905 - val_acc: 0.0675\n",
            "Epoch 36/50\n",
            " - 13s - loss: 1.1161 - acc: 0.6907 - val_loss: 4.8605 - val_acc: 0.0685\n",
            "Epoch 37/50\n",
            " - 13s - loss: 1.0581 - acc: 0.7132 - val_loss: 4.9820 - val_acc: 0.0670\n",
            "Epoch 38/50\n",
            " - 13s - loss: 1.0458 - acc: 0.7182 - val_loss: 4.9011 - val_acc: 0.0743\n",
            "Epoch 39/50\n",
            " - 13s - loss: 0.9729 - acc: 0.7334 - val_loss: 5.0330 - val_acc: 0.0655\n",
            "Epoch 40/50\n",
            " - 13s - loss: 0.9440 - acc: 0.7465 - val_loss: 4.9877 - val_acc: 0.0670\n",
            "Epoch 41/50\n",
            " - 13s - loss: 0.9258 - acc: 0.7475 - val_loss: 5.0213 - val_acc: 0.0714\n",
            "Epoch 42/50\n",
            " - 13s - loss: 0.8848 - acc: 0.7566 - val_loss: 4.9889 - val_acc: 0.0714\n",
            "Epoch 43/50\n",
            " - 13s - loss: 0.8868 - acc: 0.7559 - val_loss: 5.0200 - val_acc: 0.0729\n",
            "Epoch 44/50\n",
            " - 13s - loss: 0.8627 - acc: 0.7598 - val_loss: 5.0894 - val_acc: 0.0670\n",
            "Epoch 45/50\n",
            " - 13s - loss: 0.8648 - acc: 0.7642 - val_loss: 5.1693 - val_acc: 0.0626\n",
            "Epoch 46/50\n",
            " - 13s - loss: 0.7866 - acc: 0.7817 - val_loss: 5.0960 - val_acc: 0.0753\n",
            "Epoch 47/50\n",
            " - 13s - loss: 0.7828 - acc: 0.7813 - val_loss: 5.1217 - val_acc: 0.0729\n",
            "Epoch 48/50\n",
            " - 13s - loss: 0.7591 - acc: 0.7928 - val_loss: 5.1751 - val_acc: 0.0694\n",
            "Epoch 49/50\n",
            " - 13s - loss: 0.7415 - acc: 0.7911 - val_loss: 5.1624 - val_acc: 0.0729\n",
            "Epoch 50/50\n",
            " - 13s - loss: 0.7287 - acc: 0.7948 - val_loss: 5.1688 - val_acc: 0.0704\n"
          ],
          "name": "stdout"
        },
        {
          "output_type": "execute_result",
          "data": {
            "text/plain": [
              "<keras.callbacks.History at 0x7f4b555486a0>"
            ]
          },
          "metadata": {
            "tags": []
          },
          "execution_count": 38
        }
      ]
    },
    {
      "metadata": {
        "id": "hrQo6R_Ym7GG",
        "colab_type": "text"
      },
      "cell_type": "markdown",
      "source": [
        "As seen above, this model yielded a training accuracy of almost 80%, but the validation accuracy is only 7%. It should be noted that a random model with no accuracy would only get 1/120 correct. Classifying images into 120 categories is very difficult. The next model that I tried used the functional API method. The Inception2BN model has 6 layers, and the data is passed through this model twice. After which the data is passed through two dense layers as well. "
      ]
    },
    {
      "metadata": {
        "id": "K7FKwCfx8mGx",
        "colab_type": "code",
        "colab": {
          "autoexec": {
            "startup": false,
            "wait_interval": 0
          }
        }
      },
      "cell_type": "code",
      "source": [
        "def inception2BN(x, n = 32):\n",
        "    p1 = Conv2D(n, 1, padding='same')(x)\n",
        "    p1 = BatchNormalization()(p1)\n",
        "    p1 = Activation('relu')(p1)\n",
        "    p2 = Conv2D(n, 1, padding='same')(x)\n",
        "    p2 = BatchNormalization()(p2)\n",
        "    p2 = Activation('relu')(p2)\n",
        "    p2 = Conv2D(n, 3, padding='same')(p2)\n",
        "    p2 = BatchNormalization()(p2)\n",
        "    p2 = Activation('relu')(p2)    \n",
        "    p3 = Conv2D(n, 1, padding='same')(x)\n",
        "    p3 = BatchNormalization()(p3)\n",
        "    p3 = Activation('relu')(p3)    \n",
        "    p3 = Conv2D(n, 5, padding='same')(p3)\n",
        "    p3 = BatchNormalization()(p3)\n",
        "    p3 = Activation('relu')(p3)  \n",
        "    p4 = MaxPooling2D((3,3), strides=(1, 1), padding='same')(x)    \n",
        "    p4 = Conv2D(n, 1, padding='same')(p4)\n",
        "    p4 = BatchNormalization()(p4)\n",
        "    p4 = Activation('relu')(p4)     \n",
        "\n",
        "    c =  Concatenate(axis=-1)([p1,p2,p3,p4])\n",
        "    return c"
      ],
      "execution_count": 0,
      "outputs": []
    },
    {
      "metadata": {
        "id": "KSg233Fd8sM_",
        "colab_type": "code",
        "colab": {
          "autoexec": {
            "startup": false,
            "wait_interval": 0
          },
          "base_uri": "https://localhost:8080/",
          "height": 1966
        },
        "outputId": "6f45f13b-7ef7-4a39-8055-9dcb8a64552f",
        "executionInfo": {
          "status": "error",
          "timestamp": 1525632793279,
          "user_tz": 420,
          "elapsed": 2351928,
          "user": {
            "displayName": "Billy Hansen",
            "photoUrl": "https://lh3.googleusercontent.com/a/default-user=s128",
            "userId": "111313721956128051765"
          }
        }
      },
      "cell_type": "code",
      "source": [
        "def model3():\n",
        "  inputs = Input(shape = (100, 100, 3))\n",
        "  i1 = inception2BN(inputs)\n",
        "  mp1 = MaxPooling2D((2,2))(i1)\n",
        "  i2 = inception2BN(mp1)\n",
        "  mp2 = MaxPooling2D((2,2))(i2) \n",
        "  f = Flatten()(mp2)\n",
        "  d = Dense(128)(f)\n",
        "  d = BatchNormalization()(d)\n",
        "  d = Activation('relu')(d)\n",
        "  out = Dense(120, activation='softmax')(d)\n",
        "  model = Model(inputs, out)\n",
        "  return model\n",
        "\n",
        "model3 = model3()\n",
        "adam = Adam(lr=0.001)\n",
        "model3.compile(loss= 'categorical_crossentropy' , optimizer= adam , metrics=[ 'accuracy' ])\n",
        "\n",
        "\n",
        "t0=time.time()\n",
        "log3 = model3.fit(Xs, Ys, validation_split=0.2, epochs=50, batch_size=200, verbose=2)\n",
        "t1=time.time()\n",
        "print(t1-t0,\" seconds\")\n",
        "\n",
        "\n",
        "scores3 = model3.evaluate(X_test, y_test, verbose=0)\n",
        "print(\"CNN Error: %.2f%%\" % (100-scores3[1]*100))\n",
        "\n",
        "import matplotlib.pyplot as plt\n",
        "%matplotlib inline\n",
        "plt.plot(log3.history['acc'],'b') \n",
        "plt.plot(log3.history['val_acc'],'r')\n",
        "plt.show()"
      ],
      "execution_count": 52,
      "outputs": [
        {
          "output_type": "stream",
          "text": [
            "Train on 8177 samples, validate on 2045 samples\n",
            "Epoch 1/50\n",
            " - 56s - loss: 4.6843 - acc: 0.0362 - val_loss: 4.5432 - val_acc: 0.0455\n",
            "Epoch 2/50\n",
            " - 47s - loss: 3.9329 - acc: 0.1616 - val_loss: 4.5143 - val_acc: 0.0386\n",
            "Epoch 3/50\n",
            " - 47s - loss: 3.0575 - acc: 0.4385 - val_loss: 4.6794 - val_acc: 0.0298\n",
            "Epoch 4/50\n",
            " - 47s - loss: 1.6847 - acc: 0.8700 - val_loss: 5.0457 - val_acc: 0.0181\n",
            "Epoch 5/50\n",
            " - 47s - loss: 0.5155 - acc: 0.9921 - val_loss: 5.0756 - val_acc: 0.0259\n",
            "Epoch 6/50\n",
            " - 47s - loss: 0.1095 - acc: 0.9990 - val_loss: 4.9070 - val_acc: 0.0293\n",
            "Epoch 7/50\n",
            " - 47s - loss: 0.0412 - acc: 0.9989 - val_loss: 4.7950 - val_acc: 0.0357\n",
            "Epoch 8/50\n",
            " - 47s - loss: 0.0274 - acc: 0.9991 - val_loss: 4.6682 - val_acc: 0.0479\n",
            "Epoch 9/50\n",
            " - 47s - loss: 0.0210 - acc: 0.9991 - val_loss: 4.5556 - val_acc: 0.0548\n",
            "Epoch 10/50\n",
            " - 47s - loss: 0.0171 - acc: 0.9991 - val_loss: 4.4920 - val_acc: 0.0689\n",
            "Epoch 11/50\n",
            " - 47s - loss: 0.0151 - acc: 0.9989 - val_loss: 4.4778 - val_acc: 0.0660\n",
            "Epoch 12/50\n",
            " - 47s - loss: 0.0128 - acc: 0.9989 - val_loss: 4.4761 - val_acc: 0.0675\n",
            "Epoch 13/50\n",
            " - 47s - loss: 0.0105 - acc: 0.9994 - val_loss: 4.4720 - val_acc: 0.0704\n",
            "Epoch 14/50\n",
            " - 47s - loss: 0.0095 - acc: 0.9994 - val_loss: 4.4834 - val_acc: 0.0719\n",
            "Epoch 15/50\n",
            " - 47s - loss: 0.0084 - acc: 0.9993 - val_loss: 4.4878 - val_acc: 0.0689\n",
            "Epoch 16/50\n",
            " - 47s - loss: 0.0075 - acc: 0.9990 - val_loss: 4.4983 - val_acc: 0.0719\n",
            "Epoch 17/50\n",
            " - 47s - loss: 0.0078 - acc: 0.9988 - val_loss: 4.5028 - val_acc: 0.0699\n",
            "Epoch 18/50\n",
            " - 47s - loss: 0.0062 - acc: 0.9993 - val_loss: 4.5235 - val_acc: 0.0733\n",
            "Epoch 19/50\n",
            " - 47s - loss: 0.0063 - acc: 0.9993 - val_loss: 4.5055 - val_acc: 0.0743\n",
            "Epoch 20/50\n",
            " - 47s - loss: 0.0061 - acc: 0.9993 - val_loss: 4.5177 - val_acc: 0.0743\n",
            "Epoch 21/50\n",
            " - 47s - loss: 0.0053 - acc: 0.9991 - val_loss: 4.5163 - val_acc: 0.0782\n",
            "Epoch 22/50\n",
            " - 47s - loss: 0.0053 - acc: 0.9993 - val_loss: 4.5278 - val_acc: 0.0729\n",
            "Epoch 23/50\n",
            " - 47s - loss: 0.0052 - acc: 0.9988 - val_loss: 4.5617 - val_acc: 0.0729\n",
            "Epoch 24/50\n",
            " - 47s - loss: 0.0047 - acc: 0.9988 - val_loss: 4.5551 - val_acc: 0.0724\n",
            "Epoch 25/50\n",
            " - 47s - loss: 0.0042 - acc: 0.9991 - val_loss: 4.5513 - val_acc: 0.0729\n",
            "Epoch 26/50\n",
            " - 47s - loss: 0.0041 - acc: 0.9991 - val_loss: 4.5616 - val_acc: 0.0753\n",
            "Epoch 27/50\n",
            " - 47s - loss: 0.0044 - acc: 0.9991 - val_loss: 4.5363 - val_acc: 0.0758\n",
            "Epoch 28/50\n",
            " - 47s - loss: 0.0034 - acc: 0.9994 - val_loss: 4.5501 - val_acc: 0.0724\n",
            "Epoch 29/50\n",
            " - 47s - loss: 0.0039 - acc: 0.9990 - val_loss: 4.6286 - val_acc: 0.0675\n",
            "Epoch 30/50\n",
            " - 47s - loss: 0.0036 - acc: 0.9994 - val_loss: 4.5836 - val_acc: 0.0748\n",
            "Epoch 31/50\n",
            " - 47s - loss: 0.0032 - acc: 0.9994 - val_loss: 4.5819 - val_acc: 0.0729\n",
            "Epoch 32/50\n",
            " - 47s - loss: 0.0030 - acc: 0.9990 - val_loss: 4.5677 - val_acc: 0.0719\n",
            "Epoch 33/50\n",
            " - 47s - loss: 0.0036 - acc: 0.9991 - val_loss: 4.6718 - val_acc: 0.0680\n",
            "Epoch 34/50\n"
          ],
          "name": "stdout"
        },
        {
          "output_type": "stream",
          "text": [
            " - 47s - loss: 0.0027 - acc: 0.9991 - val_loss: 4.5834 - val_acc: 0.0704\n",
            "Epoch 35/50\n",
            " - 47s - loss: 0.0027 - acc: 0.9994 - val_loss: 4.5722 - val_acc: 0.0699\n",
            "Epoch 36/50\n",
            " - 47s - loss: 0.0023 - acc: 0.9995 - val_loss: 4.5865 - val_acc: 0.0714\n",
            "Epoch 37/50\n",
            " - 47s - loss: 0.0026 - acc: 0.9994 - val_loss: 4.5839 - val_acc: 0.0704\n",
            "Epoch 38/50\n",
            " - 47s - loss: 0.0024 - acc: 0.9991 - val_loss: 4.5871 - val_acc: 0.0729\n",
            "Epoch 39/50\n",
            " - 47s - loss: 0.0023 - acc: 0.9994 - val_loss: 4.5798 - val_acc: 0.0778\n",
            "Epoch 40/50\n",
            " - 47s - loss: 0.0025 - acc: 0.9991 - val_loss: 4.5899 - val_acc: 0.0714\n",
            "Epoch 41/50\n",
            " - 47s - loss: 0.0021 - acc: 0.9994 - val_loss: 4.5969 - val_acc: 0.0733\n",
            "Epoch 42/50\n",
            " - 47s - loss: 0.0024 - acc: 0.9994 - val_loss: 4.6000 - val_acc: 0.0733\n",
            "Epoch 43/50\n",
            " - 47s - loss: 0.0019 - acc: 0.9993 - val_loss: 4.6115 - val_acc: 0.0714\n",
            "Epoch 44/50\n",
            " - 47s - loss: 0.0019 - acc: 0.9993 - val_loss: 4.6172 - val_acc: 0.0689\n",
            "Epoch 45/50\n",
            " - 47s - loss: 0.0017 - acc: 0.9994 - val_loss: 4.6179 - val_acc: 0.0694\n",
            "Epoch 46/50\n",
            " - 47s - loss: 0.0017 - acc: 0.9993 - val_loss: 4.6138 - val_acc: 0.0733\n",
            "Epoch 47/50\n",
            " - 47s - loss: 0.0017 - acc: 0.9995 - val_loss: 4.6210 - val_acc: 0.0729\n",
            "Epoch 48/50\n",
            " - 47s - loss: 0.0018 - acc: 0.9993 - val_loss: 4.6223 - val_acc: 0.0733\n",
            "Epoch 49/50\n",
            " - 47s - loss: 0.0015 - acc: 0.9995 - val_loss: 4.6275 - val_acc: 0.0724\n",
            "Epoch 50/50\n",
            " - 47s - loss: 0.0016 - acc: 0.9991 - val_loss: 4.6412 - val_acc: 0.0709\n",
            "2348.9811403751373  seconds\n"
          ],
          "name": "stdout"
        },
        {
          "output_type": "error",
          "ename": "NameError",
          "evalue": "ignored",
          "traceback": [
            "\u001b[0;31m---------------------------------------------------------------------------\u001b[0m",
            "\u001b[0;31mNameError\u001b[0m                                 Traceback (most recent call last)",
            "\u001b[0;32m<ipython-input-52-07db5c3b5ef0>\u001b[0m in \u001b[0;36m<module>\u001b[0;34m()\u001b[0m\n\u001b[1;32m     24\u001b[0m \u001b[0;34m\u001b[0m\u001b[0m\n\u001b[1;32m     25\u001b[0m \u001b[0;34m\u001b[0m\u001b[0m\n\u001b[0;32m---> 26\u001b[0;31m \u001b[0mscores3\u001b[0m \u001b[0;34m=\u001b[0m \u001b[0mmodel3\u001b[0m\u001b[0;34m.\u001b[0m\u001b[0mevaluate\u001b[0m\u001b[0;34m(\u001b[0m\u001b[0mX_test\u001b[0m\u001b[0;34m,\u001b[0m \u001b[0my_test\u001b[0m\u001b[0;34m,\u001b[0m \u001b[0mverbose\u001b[0m\u001b[0;34m=\u001b[0m\u001b[0;36m0\u001b[0m\u001b[0;34m)\u001b[0m\u001b[0;34m\u001b[0m\u001b[0m\n\u001b[0m\u001b[1;32m     27\u001b[0m \u001b[0mprint\u001b[0m\u001b[0;34m(\u001b[0m\u001b[0;34m\"CNN Error: %.2f%%\"\u001b[0m \u001b[0;34m%\u001b[0m \u001b[0;34m(\u001b[0m\u001b[0;36m100\u001b[0m\u001b[0;34m-\u001b[0m\u001b[0mscores3\u001b[0m\u001b[0;34m[\u001b[0m\u001b[0;36m1\u001b[0m\u001b[0;34m]\u001b[0m\u001b[0;34m*\u001b[0m\u001b[0;36m100\u001b[0m\u001b[0;34m)\u001b[0m\u001b[0;34m)\u001b[0m\u001b[0;34m\u001b[0m\u001b[0m\n\u001b[1;32m     28\u001b[0m \u001b[0;34m\u001b[0m\u001b[0m\n",
            "\u001b[0;31mNameError\u001b[0m: name 'X_test' is not defined"
          ]
        }
      ]
    },
    {
      "metadata": {
        "id": "NpGbHxozvyE1",
        "colab_type": "text"
      },
      "cell_type": "markdown",
      "source": [
        "As seen above, this model had very similar validation accuracy to the sequential mode."
      ]
    },
    {
      "metadata": {
        "id": "0bdCSU5fv59p",
        "colab_type": "text"
      },
      "cell_type": "markdown",
      "source": [
        "## Vgg16 Model\n",
        "Because I'm having trouble getting my validation accuracy above about 7%, I'm going to try one of the pre-trained Keras models to see if I can improve the accuracy of my model. The Vgg16 model has already been trained to classify cat and dog images - let's see if we can tune it up and improve our accuracy. I got help on this part of the project from the wonderful YouTube channel called \"DeepLizard\""
      ]
    },
    {
      "metadata": {
        "id": "oEJJ7aAkorcy",
        "colab_type": "code",
        "colab": {
          "autoexec": {
            "startup": false,
            "wait_interval": 0
          }
        }
      },
      "cell_type": "code",
      "source": [
        "#Load data, change input layer to the dimensions of our images.\n",
        "vgg16_model = keras.applications.vgg16.VGG16(weights='imagenet', include_top=False, input_shape=(100,100,3))"
      ],
      "execution_count": 0,
      "outputs": []
    },
    {
      "metadata": {
        "id": "B0gIrKSJo-M8",
        "colab_type": "code",
        "colab": {
          "autoexec": {
            "startup": false,
            "wait_interval": 0
          },
          "base_uri": "https://localhost:8080/",
          "height": 782
        },
        "outputId": "304ffc31-5ca5-42c9-d5d4-36935d6271be",
        "executionInfo": {
          "status": "ok",
          "timestamp": 1525632825716,
          "user_tz": 420,
          "elapsed": 460,
          "user": {
            "displayName": "Billy Hansen",
            "photoUrl": "https://lh3.googleusercontent.com/a/default-user=s128",
            "userId": "111313721956128051765"
          }
        }
      },
      "cell_type": "code",
      "source": [
        "vgg16_model.summary()"
      ],
      "execution_count": 54,
      "outputs": [
        {
          "output_type": "stream",
          "text": [
            "_________________________________________________________________\n",
            "Layer (type)                 Output Shape              Param #   \n",
            "=================================================================\n",
            "input_5 (InputLayer)         (None, 100, 100, 3)       0         \n",
            "_________________________________________________________________\n",
            "block1_conv1 (Conv2D)        (None, 100, 100, 64)      1792      \n",
            "_________________________________________________________________\n",
            "block1_conv2 (Conv2D)        (None, 100, 100, 64)      36928     \n",
            "_________________________________________________________________\n",
            "block1_pool (MaxPooling2D)   (None, 50, 50, 64)        0         \n",
            "_________________________________________________________________\n",
            "block2_conv1 (Conv2D)        (None, 50, 50, 128)       73856     \n",
            "_________________________________________________________________\n",
            "block2_conv2 (Conv2D)        (None, 50, 50, 128)       147584    \n",
            "_________________________________________________________________\n",
            "block2_pool (MaxPooling2D)   (None, 25, 25, 128)       0         \n",
            "_________________________________________________________________\n",
            "block3_conv1 (Conv2D)        (None, 25, 25, 256)       295168    \n",
            "_________________________________________________________________\n",
            "block3_conv2 (Conv2D)        (None, 25, 25, 256)       590080    \n",
            "_________________________________________________________________\n",
            "block3_conv3 (Conv2D)        (None, 25, 25, 256)       590080    \n",
            "_________________________________________________________________\n",
            "block3_pool (MaxPooling2D)   (None, 12, 12, 256)       0         \n",
            "_________________________________________________________________\n",
            "block4_conv1 (Conv2D)        (None, 12, 12, 512)       1180160   \n",
            "_________________________________________________________________\n",
            "block4_conv2 (Conv2D)        (None, 12, 12, 512)       2359808   \n",
            "_________________________________________________________________\n",
            "block4_conv3 (Conv2D)        (None, 12, 12, 512)       2359808   \n",
            "_________________________________________________________________\n",
            "block4_pool (MaxPooling2D)   (None, 6, 6, 512)         0         \n",
            "_________________________________________________________________\n",
            "block5_conv1 (Conv2D)        (None, 6, 6, 512)         2359808   \n",
            "_________________________________________________________________\n",
            "block5_conv2 (Conv2D)        (None, 6, 6, 512)         2359808   \n",
            "_________________________________________________________________\n",
            "block5_conv3 (Conv2D)        (None, 6, 6, 512)         2359808   \n",
            "_________________________________________________________________\n",
            "block5_pool (MaxPooling2D)   (None, 3, 3, 512)         0         \n",
            "=================================================================\n",
            "Total params: 14,714,688\n",
            "Trainable params: 14,714,688\n",
            "Non-trainable params: 0\n",
            "_________________________________________________________________\n"
          ],
          "name": "stdout"
        }
      ]
    },
    {
      "metadata": {
        "id": "RL_hi5yD1AYn",
        "colab_type": "text"
      },
      "cell_type": "markdown",
      "source": [
        "The standard model summay from Keras is shown above."
      ]
    },
    {
      "metadata": {
        "id": "nZtTYL9ZpRkb",
        "colab_type": "code",
        "colab": {
          "autoexec": {
            "startup": false,
            "wait_interval": 0
          },
          "base_uri": "https://localhost:8080/",
          "height": 34
        },
        "outputId": "9b40682a-00f4-424c-d87c-fcae376220a8",
        "executionInfo": {
          "status": "ok",
          "timestamp": 1525564428798,
          "user_tz": 360,
          "elapsed": 404,
          "user": {
            "displayName": "Billy Hansen",
            "photoUrl": "https://lh3.googleusercontent.com/a/default-user=s128",
            "userId": "111523816202072068638"
          }
        }
      },
      "cell_type": "code",
      "source": [
        "type(vgg16_model)"
      ],
      "execution_count": 0,
      "outputs": [
        {
          "output_type": "execute_result",
          "data": {
            "text/plain": [
              "keras.engine.training.Model"
            ]
          },
          "metadata": {
            "tags": []
          },
          "execution_count": 131
        }
      ]
    },
    {
      "metadata": {
        "id": "-6j7mSPJ1euR",
        "colab_type": "text"
      },
      "cell_type": "markdown",
      "source": [
        "Let's change the model to a sequential model so we can modify it to fit our needs."
      ]
    },
    {
      "metadata": {
        "id": "60cx1FW7pXli",
        "colab_type": "code",
        "colab": {
          "autoexec": {
            "startup": false,
            "wait_interval": 0
          }
        }
      },
      "cell_type": "code",
      "source": [
        "# Change to sequential\n",
        "model = Sequential()\n",
        "for layer in vgg16_model.layers:\n",
        "  model.add(layer)"
      ],
      "execution_count": 0,
      "outputs": []
    },
    {
      "metadata": {
        "id": "5G4diyUvpquz",
        "colab_type": "code",
        "colab": {
          "autoexec": {
            "startup": false,
            "wait_interval": 0
          },
          "base_uri": "https://localhost:8080/",
          "height": 782
        },
        "outputId": "da19647e-bb55-453b-f674-6a94154cc481",
        "executionInfo": {
          "status": "ok",
          "timestamp": 1525632854523,
          "user_tz": 420,
          "elapsed": 460,
          "user": {
            "displayName": "Billy Hansen",
            "photoUrl": "https://lh3.googleusercontent.com/a/default-user=s128",
            "userId": "111313721956128051765"
          }
        }
      },
      "cell_type": "code",
      "source": [
        "model.summary()"
      ],
      "execution_count": 56,
      "outputs": [
        {
          "output_type": "stream",
          "text": [
            "_________________________________________________________________\n",
            "Layer (type)                 Output Shape              Param #   \n",
            "=================================================================\n",
            "input_5 (InputLayer)         (None, 100, 100, 3)       0         \n",
            "_________________________________________________________________\n",
            "block1_conv1 (Conv2D)        (None, 100, 100, 64)      1792      \n",
            "_________________________________________________________________\n",
            "block1_conv2 (Conv2D)        (None, 100, 100, 64)      36928     \n",
            "_________________________________________________________________\n",
            "block1_pool (MaxPooling2D)   (None, 50, 50, 64)        0         \n",
            "_________________________________________________________________\n",
            "block2_conv1 (Conv2D)        (None, 50, 50, 128)       73856     \n",
            "_________________________________________________________________\n",
            "block2_conv2 (Conv2D)        (None, 50, 50, 128)       147584    \n",
            "_________________________________________________________________\n",
            "block2_pool (MaxPooling2D)   (None, 25, 25, 128)       0         \n",
            "_________________________________________________________________\n",
            "block3_conv1 (Conv2D)        (None, 25, 25, 256)       295168    \n",
            "_________________________________________________________________\n",
            "block3_conv2 (Conv2D)        (None, 25, 25, 256)       590080    \n",
            "_________________________________________________________________\n",
            "block3_conv3 (Conv2D)        (None, 25, 25, 256)       590080    \n",
            "_________________________________________________________________\n",
            "block3_pool (MaxPooling2D)   (None, 12, 12, 256)       0         \n",
            "_________________________________________________________________\n",
            "block4_conv1 (Conv2D)        (None, 12, 12, 512)       1180160   \n",
            "_________________________________________________________________\n",
            "block4_conv2 (Conv2D)        (None, 12, 12, 512)       2359808   \n",
            "_________________________________________________________________\n",
            "block4_conv3 (Conv2D)        (None, 12, 12, 512)       2359808   \n",
            "_________________________________________________________________\n",
            "block4_pool (MaxPooling2D)   (None, 6, 6, 512)         0         \n",
            "_________________________________________________________________\n",
            "block5_conv1 (Conv2D)        (None, 6, 6, 512)         2359808   \n",
            "_________________________________________________________________\n",
            "block5_conv2 (Conv2D)        (None, 6, 6, 512)         2359808   \n",
            "_________________________________________________________________\n",
            "block5_conv3 (Conv2D)        (None, 6, 6, 512)         2359808   \n",
            "_________________________________________________________________\n",
            "block5_pool (MaxPooling2D)   (None, 3, 3, 512)         0         \n",
            "=================================================================\n",
            "Total params: 14,714,688\n",
            "Trainable params: 14,714,688\n",
            "Non-trainable params: 0\n",
            "_________________________________________________________________\n"
          ],
          "name": "stdout"
        }
      ]
    },
    {
      "metadata": {
        "id": "ubUZCPDk1pnV",
        "colab_type": "text"
      },
      "cell_type": "markdown",
      "source": [
        "We need to remove the last layer of the model so we can insert the correct outputs for our model."
      ]
    },
    {
      "metadata": {
        "id": "oF-RjijMp5MK",
        "colab_type": "code",
        "colab": {
          "autoexec": {
            "startup": false,
            "wait_interval": 0
          },
          "base_uri": "https://localhost:8080/",
          "height": 34
        },
        "outputId": "075dc7fc-0f5c-469e-b41b-df8df9a36490",
        "executionInfo": {
          "status": "ok",
          "timestamp": 1525632860852,
          "user_tz": 420,
          "elapsed": 450,
          "user": {
            "displayName": "Billy Hansen",
            "photoUrl": "https://lh3.googleusercontent.com/a/default-user=s128",
            "userId": "111313721956128051765"
          }
        }
      },
      "cell_type": "code",
      "source": [
        "model.layers.pop()"
      ],
      "execution_count": 57,
      "outputs": [
        {
          "output_type": "execute_result",
          "data": {
            "text/plain": [
              "<keras.layers.pooling.MaxPooling2D at 0x7f1b80726128>"
            ]
          },
          "metadata": {
            "tags": []
          },
          "execution_count": 57
        }
      ]
    },
    {
      "metadata": {
        "id": "iz-7JfTnp8V9",
        "colab_type": "code",
        "colab": {
          "autoexec": {
            "startup": false,
            "wait_interval": 0
          },
          "base_uri": "https://localhost:8080/",
          "height": 748
        },
        "outputId": "721b1dd5-1e56-4d38-871a-430831078d44",
        "executionInfo": {
          "status": "ok",
          "timestamp": 1525632863439,
          "user_tz": 420,
          "elapsed": 466,
          "user": {
            "displayName": "Billy Hansen",
            "photoUrl": "https://lh3.googleusercontent.com/a/default-user=s128",
            "userId": "111313721956128051765"
          }
        }
      },
      "cell_type": "code",
      "source": [
        "model.summary()"
      ],
      "execution_count": 58,
      "outputs": [
        {
          "output_type": "stream",
          "text": [
            "_________________________________________________________________\n",
            "Layer (type)                 Output Shape              Param #   \n",
            "=================================================================\n",
            "input_5 (InputLayer)         (None, 100, 100, 3)       0         \n",
            "_________________________________________________________________\n",
            "block1_conv1 (Conv2D)        (None, 100, 100, 64)      1792      \n",
            "_________________________________________________________________\n",
            "block1_conv2 (Conv2D)        (None, 100, 100, 64)      36928     \n",
            "_________________________________________________________________\n",
            "block1_pool (MaxPooling2D)   (None, 50, 50, 64)        0         \n",
            "_________________________________________________________________\n",
            "block2_conv1 (Conv2D)        (None, 50, 50, 128)       73856     \n",
            "_________________________________________________________________\n",
            "block2_conv2 (Conv2D)        (None, 50, 50, 128)       147584    \n",
            "_________________________________________________________________\n",
            "block2_pool (MaxPooling2D)   (None, 25, 25, 128)       0         \n",
            "_________________________________________________________________\n",
            "block3_conv1 (Conv2D)        (None, 25, 25, 256)       295168    \n",
            "_________________________________________________________________\n",
            "block3_conv2 (Conv2D)        (None, 25, 25, 256)       590080    \n",
            "_________________________________________________________________\n",
            "block3_conv3 (Conv2D)        (None, 25, 25, 256)       590080    \n",
            "_________________________________________________________________\n",
            "block3_pool (MaxPooling2D)   (None, 12, 12, 256)       0         \n",
            "_________________________________________________________________\n",
            "block4_conv1 (Conv2D)        (None, 12, 12, 512)       1180160   \n",
            "_________________________________________________________________\n",
            "block4_conv2 (Conv2D)        (None, 12, 12, 512)       2359808   \n",
            "_________________________________________________________________\n",
            "block4_conv3 (Conv2D)        (None, 12, 12, 512)       2359808   \n",
            "_________________________________________________________________\n",
            "block4_pool (MaxPooling2D)   (None, 6, 6, 512)         0         \n",
            "_________________________________________________________________\n",
            "block5_conv1 (Conv2D)        (None, 6, 6, 512)         2359808   \n",
            "_________________________________________________________________\n",
            "block5_conv2 (Conv2D)        (None, 6, 6, 512)         2359808   \n",
            "_________________________________________________________________\n",
            "block5_conv3 (Conv2D)        (None, 6, 6, 512)         2359808   \n",
            "=================================================================\n",
            "Total params: 14,714,688\n",
            "Trainable params: 14,714,688\n",
            "Non-trainable params: 0\n",
            "_________________________________________________________________\n"
          ],
          "name": "stdout"
        }
      ]
    },
    {
      "metadata": {
        "id": "zesQuouS1x21",
        "colab_type": "text"
      },
      "cell_type": "markdown",
      "source": [
        "As shown above, the last layer has been removed. We now have to flatten the model so our images can be fed through properly. We'll also add a dense layer with the shape of 120 and a softmax activation. We add this layer because our data has a shape of 120."
      ]
    },
    {
      "metadata": {
        "id": "44R18dqSqMsH",
        "colab_type": "code",
        "colab": {
          "autoexec": {
            "startup": false,
            "wait_interval": 0
          }
        }
      },
      "cell_type": "code",
      "source": [
        "for layer in model.layers:\n",
        "  layer.trainable = False"
      ],
      "execution_count": 0,
      "outputs": []
    },
    {
      "metadata": {
        "id": "emlA6RGRuaR6",
        "colab_type": "code",
        "colab": {
          "autoexec": {
            "startup": false,
            "wait_interval": 0
          }
        }
      },
      "cell_type": "code",
      "source": [
        "# Flatten model\n",
        "  model.add(Flatten())"
      ],
      "execution_count": 0,
      "outputs": []
    },
    {
      "metadata": {
        "id": "JustNNg9qTBO",
        "colab_type": "code",
        "colab": {
          "autoexec": {
            "startup": false,
            "wait_interval": 0
          }
        }
      },
      "cell_type": "code",
      "source": [
        "# Add dense layer\n",
        "model.add(Dense(120, activation = 'softmax'))"
      ],
      "execution_count": 0,
      "outputs": []
    },
    {
      "metadata": {
        "id": "BqWpHrAJqgrL",
        "colab_type": "code",
        "colab": {
          "autoexec": {
            "startup": false,
            "wait_interval": 0
          },
          "base_uri": "https://localhost:8080/",
          "height": 816
        },
        "outputId": "10b94a19-5c86-4b28-a3d5-7c5136cd63cd",
        "executionInfo": {
          "status": "ok",
          "timestamp": 1525632872068,
          "user_tz": 420,
          "elapsed": 475,
          "user": {
            "displayName": "Billy Hansen",
            "photoUrl": "https://lh3.googleusercontent.com/a/default-user=s128",
            "userId": "111313721956128051765"
          }
        }
      },
      "cell_type": "code",
      "source": [
        "model.summary()"
      ],
      "execution_count": 62,
      "outputs": [
        {
          "output_type": "stream",
          "text": [
            "_________________________________________________________________\n",
            "Layer (type)                 Output Shape              Param #   \n",
            "=================================================================\n",
            "input_5 (InputLayer)         (None, 100, 100, 3)       0         \n",
            "_________________________________________________________________\n",
            "block1_conv1 (Conv2D)        (None, 100, 100, 64)      1792      \n",
            "_________________________________________________________________\n",
            "block1_conv2 (Conv2D)        (None, 100, 100, 64)      36928     \n",
            "_________________________________________________________________\n",
            "block1_pool (MaxPooling2D)   (None, 50, 50, 64)        0         \n",
            "_________________________________________________________________\n",
            "block2_conv1 (Conv2D)        (None, 50, 50, 128)       73856     \n",
            "_________________________________________________________________\n",
            "block2_conv2 (Conv2D)        (None, 50, 50, 128)       147584    \n",
            "_________________________________________________________________\n",
            "block2_pool (MaxPooling2D)   (None, 25, 25, 128)       0         \n",
            "_________________________________________________________________\n",
            "block3_conv1 (Conv2D)        (None, 25, 25, 256)       295168    \n",
            "_________________________________________________________________\n",
            "block3_conv2 (Conv2D)        (None, 25, 25, 256)       590080    \n",
            "_________________________________________________________________\n",
            "block3_conv3 (Conv2D)        (None, 25, 25, 256)       590080    \n",
            "_________________________________________________________________\n",
            "block3_pool (MaxPooling2D)   (None, 12, 12, 256)       0         \n",
            "_________________________________________________________________\n",
            "block4_conv1 (Conv2D)        (None, 12, 12, 512)       1180160   \n",
            "_________________________________________________________________\n",
            "block4_conv2 (Conv2D)        (None, 12, 12, 512)       2359808   \n",
            "_________________________________________________________________\n",
            "block4_conv3 (Conv2D)        (None, 12, 12, 512)       2359808   \n",
            "_________________________________________________________________\n",
            "block4_pool (MaxPooling2D)   (None, 6, 6, 512)         0         \n",
            "_________________________________________________________________\n",
            "block5_conv1 (Conv2D)        (None, 6, 6, 512)         2359808   \n",
            "_________________________________________________________________\n",
            "block5_conv2 (Conv2D)        (None, 6, 6, 512)         2359808   \n",
            "_________________________________________________________________\n",
            "block5_conv3 (Conv2D)        (None, 6, 6, 512)         2359808   \n",
            "_________________________________________________________________\n",
            "flatten_3 (Flatten)          (None, 4608)              0         \n",
            "_________________________________________________________________\n",
            "dense_5 (Dense)              (None, 120)               553080    \n",
            "=================================================================\n",
            "Total params: 15,267,768\n",
            "Trainable params: 553,080\n",
            "Non-trainable params: 14,714,688\n",
            "_________________________________________________________________\n"
          ],
          "name": "stdout"
        }
      ]
    },
    {
      "metadata": {
        "id": "X1Q16DcW2NES",
        "colab_type": "text"
      },
      "cell_type": "markdown",
      "source": [
        "This looks right, let's see how it runs."
      ]
    },
    {
      "metadata": {
        "id": "LCJchH_LqqBL",
        "colab_type": "code",
        "colab": {
          "autoexec": {
            "startup": false,
            "wait_interval": 0
          }
        }
      },
      "cell_type": "code",
      "source": [
        "# Compile model using same parameters as above.\n",
        "model.compile(loss= 'categorical_crossentropy' , optimizer= 'adam' , metrics=[ 'accuracy' ])"
      ],
      "execution_count": 0,
      "outputs": []
    },
    {
      "metadata": {
        "id": "6p6AbN4pqnds",
        "colab_type": "code",
        "colab": {
          "autoexec": {
            "startup": false,
            "wait_interval": 0
          },
          "base_uri": "https://localhost:8080/",
          "height": 1805
        },
        "outputId": "eb6433d5-9873-4618-e9f5-eb88911243e3",
        "executionInfo": {
          "status": "ok",
          "timestamp": 1525633942507,
          "user_tz": 420,
          "elapsed": 1066469,
          "user": {
            "displayName": "Billy Hansen",
            "photoUrl": "https://lh3.googleusercontent.com/a/default-user=s128",
            "userId": "111313721956128051765"
          }
        }
      },
      "cell_type": "code",
      "source": [
        "model.fit(Xs, Ys, validation_split=.2, nb_epoch=50, batch_size=200, verbose=2)"
      ],
      "execution_count": 64,
      "outputs": [
        {
          "output_type": "stream",
          "text": [
            "/usr/local/lib/python3.6/dist-packages/keras/models.py:981: UserWarning: The `nb_epoch` argument in `fit` has been renamed `epochs`.\n",
            "  warnings.warn('The `nb_epoch` argument in `fit` '\n"
          ],
          "name": "stderr"
        },
        {
          "output_type": "stream",
          "text": [
            "Train on 8177 samples, validate on 2045 samples\n",
            "Epoch 1/50\n",
            " - 29s - loss: 4.6047 - acc: 0.0443 - val_loss: 4.2708 - val_acc: 0.0880\n",
            "Epoch 2/50\n",
            " - 21s - loss: 3.5016 - acc: 0.2386 - val_loss: 3.9653 - val_acc: 0.1247\n",
            "Epoch 3/50\n",
            " - 21s - loss: 2.9047 - acc: 0.3778 - val_loss: 3.8250 - val_acc: 0.1540\n",
            "Epoch 4/50\n",
            " - 21s - loss: 2.4729 - acc: 0.4878 - val_loss: 3.7544 - val_acc: 0.1697\n",
            "Epoch 5/50\n",
            " - 21s - loss: 2.1494 - acc: 0.5709 - val_loss: 3.7142 - val_acc: 0.1707\n",
            "Epoch 6/50\n",
            " - 21s - loss: 1.8542 - acc: 0.6531 - val_loss: 3.6899 - val_acc: 0.1731\n",
            "Epoch 7/50\n",
            " - 21s - loss: 1.6283 - acc: 0.7158 - val_loss: 3.6617 - val_acc: 0.1775\n",
            "Epoch 8/50\n",
            " - 21s - loss: 1.4364 - acc: 0.7742 - val_loss: 3.7030 - val_acc: 0.1785\n",
            "Epoch 9/50\n",
            " - 21s - loss: 1.2639 - acc: 0.8161 - val_loss: 3.6829 - val_acc: 0.1765\n",
            "Epoch 10/50\n",
            " - 21s - loss: 1.1176 - acc: 0.8565 - val_loss: 3.6957 - val_acc: 0.1760\n",
            "Epoch 11/50\n",
            " - 21s - loss: 0.9932 - acc: 0.8848 - val_loss: 3.6939 - val_acc: 0.1829\n",
            "Epoch 12/50\n",
            " - 21s - loss: 0.8811 - acc: 0.9089 - val_loss: 3.7103 - val_acc: 0.1741\n",
            "Epoch 13/50\n",
            " - 21s - loss: 0.7828 - acc: 0.9331 - val_loss: 3.7291 - val_acc: 0.1868\n",
            "Epoch 14/50\n",
            " - 21s - loss: 0.7002 - acc: 0.9468 - val_loss: 3.7526 - val_acc: 0.1844\n",
            "Epoch 15/50\n",
            " - 21s - loss: 0.6317 - acc: 0.9573 - val_loss: 3.7755 - val_acc: 0.1829\n",
            "Epoch 16/50\n",
            " - 21s - loss: 0.5638 - acc: 0.9677 - val_loss: 3.7907 - val_acc: 0.1853\n",
            "Epoch 17/50\n",
            " - 21s - loss: 0.5063 - acc: 0.9758 - val_loss: 3.7961 - val_acc: 0.1848\n",
            "Epoch 18/50\n",
            " - 21s - loss: 0.4595 - acc: 0.9795 - val_loss: 3.8331 - val_acc: 0.1814\n",
            "Epoch 19/50\n",
            " - 21s - loss: 0.4148 - acc: 0.9865 - val_loss: 3.8384 - val_acc: 0.1809\n",
            "Epoch 20/50\n",
            " - 21s - loss: 0.3725 - acc: 0.9903 - val_loss: 3.8600 - val_acc: 0.1844\n",
            "Epoch 21/50\n",
            " - 21s - loss: 0.3374 - acc: 0.9919 - val_loss: 3.8758 - val_acc: 0.1814\n",
            "Epoch 22/50\n",
            " - 21s - loss: 0.3073 - acc: 0.9928 - val_loss: 3.8767 - val_acc: 0.1795\n",
            "Epoch 23/50\n",
            " - 21s - loss: 0.2825 - acc: 0.9941 - val_loss: 3.9207 - val_acc: 0.1795\n",
            "Epoch 24/50\n",
            " - 21s - loss: 0.2561 - acc: 0.9961 - val_loss: 3.9251 - val_acc: 0.1834\n",
            "Epoch 25/50\n",
            " - 21s - loss: 0.2358 - acc: 0.9966 - val_loss: 3.9550 - val_acc: 0.1741\n",
            "Epoch 26/50\n",
            " - 21s - loss: 0.2167 - acc: 0.9973 - val_loss: 3.9534 - val_acc: 0.1804\n",
            "Epoch 27/50\n",
            " - 21s - loss: 0.2012 - acc: 0.9977 - val_loss: 3.9806 - val_acc: 0.1790\n",
            "Epoch 28/50\n",
            " - 21s - loss: 0.1869 - acc: 0.9977 - val_loss: 3.9850 - val_acc: 0.1775\n",
            "Epoch 29/50\n",
            " - 21s - loss: 0.1712 - acc: 0.9988 - val_loss: 4.0117 - val_acc: 0.1804\n",
            "Epoch 30/50\n",
            " - 21s - loss: 0.1595 - acc: 0.9987 - val_loss: 4.0120 - val_acc: 0.1839\n",
            "Epoch 31/50\n",
            " - 21s - loss: 0.1492 - acc: 0.9987 - val_loss: 4.0419 - val_acc: 0.1765\n",
            "Epoch 32/50\n",
            " - 21s - loss: 0.1389 - acc: 0.9991 - val_loss: 4.0488 - val_acc: 0.1726\n",
            "Epoch 33/50\n",
            " - 21s - loss: 0.1308 - acc: 0.9990 - val_loss: 4.0739 - val_acc: 0.1736\n",
            "Epoch 34/50\n"
          ],
          "name": "stdout"
        },
        {
          "output_type": "stream",
          "text": [
            " - 21s - loss: 0.1221 - acc: 0.9989 - val_loss: 4.0752 - val_acc: 0.1809\n",
            "Epoch 35/50\n",
            " - 21s - loss: 0.1145 - acc: 0.9989 - val_loss: 4.0842 - val_acc: 0.1795\n",
            "Epoch 36/50\n",
            " - 21s - loss: 0.1083 - acc: 0.9989 - val_loss: 4.1145 - val_acc: 0.1775\n",
            "Epoch 37/50\n",
            " - 21s - loss: 0.1014 - acc: 0.9990 - val_loss: 4.1125 - val_acc: 0.1814\n",
            "Epoch 38/50\n",
            " - 21s - loss: 0.0955 - acc: 0.9989 - val_loss: 4.1306 - val_acc: 0.1853\n",
            "Epoch 39/50\n",
            " - 21s - loss: 0.0907 - acc: 0.9991 - val_loss: 4.1481 - val_acc: 0.1780\n",
            "Epoch 40/50\n",
            " - 21s - loss: 0.0858 - acc: 0.9990 - val_loss: 4.1542 - val_acc: 0.1800\n",
            "Epoch 41/50\n",
            " - 21s - loss: 0.0818 - acc: 0.9990 - val_loss: 4.1703 - val_acc: 0.1756\n",
            "Epoch 42/50\n",
            " - 21s - loss: 0.0779 - acc: 0.9990 - val_loss: 4.1869 - val_acc: 0.1770\n",
            "Epoch 43/50\n",
            " - 21s - loss: 0.0737 - acc: 0.9989 - val_loss: 4.1961 - val_acc: 0.1814\n",
            "Epoch 44/50\n",
            " - 21s - loss: 0.0706 - acc: 0.9989 - val_loss: 4.2113 - val_acc: 0.1819\n",
            "Epoch 45/50\n",
            " - 21s - loss: 0.0673 - acc: 0.9988 - val_loss: 4.2289 - val_acc: 0.1839\n",
            "Epoch 46/50\n",
            " - 21s - loss: 0.0643 - acc: 0.9989 - val_loss: 4.2322 - val_acc: 0.1809\n",
            "Epoch 47/50\n",
            " - 21s - loss: 0.0610 - acc: 0.9994 - val_loss: 4.2417 - val_acc: 0.1844\n",
            "Epoch 48/50\n",
            " - 21s - loss: 0.0585 - acc: 0.9991 - val_loss: 4.2466 - val_acc: 0.1844\n",
            "Epoch 49/50\n",
            " - 21s - loss: 0.0564 - acc: 0.9989 - val_loss: 4.2628 - val_acc: 0.1858\n",
            "Epoch 50/50\n",
            " - 21s - loss: 0.0535 - acc: 0.9990 - val_loss: 4.2754 - val_acc: 0.1848\n"
          ],
          "name": "stdout"
        },
        {
          "output_type": "execute_result",
          "data": {
            "text/plain": [
              "<keras.callbacks.History at 0x7f1b800e9358>"
            ]
          },
          "metadata": {
            "tags": []
          },
          "execution_count": 64
        }
      ]
    },
    {
      "metadata": {
        "id": "WDgNUb9tsqZF",
        "colab_type": "text"
      },
      "cell_type": "markdown",
      "source": [
        "As seen in the results above, this model is yielding much better results. Let's try again with a smaller learning rate."
      ]
    },
    {
      "metadata": {
        "id": "9akb4S7SrMuZ",
        "colab_type": "code",
        "colab": {
          "autoexec": {
            "startup": false,
            "wait_interval": 0
          },
          "base_uri": "https://localhost:8080/",
          "height": 1805
        },
        "outputId": "fd95c4a1-a830-4c0f-a86e-be0a0e95e2c9",
        "executionInfo": {
          "status": "ok",
          "timestamp": 1525582086416,
          "user_tz": 420,
          "elapsed": 1085129,
          "user": {
            "displayName": "Billy Hansen",
            "photoUrl": "https://lh3.googleusercontent.com/a/default-user=s128",
            "userId": "111523816202072068638"
          }
        }
      },
      "cell_type": "code",
      "source": [
        "model2 = Sequential()\n",
        "for layer in vgg16_model.layers:\n",
        "  model2.add(layer)\n",
        "model2.layers.pop()\n",
        "for layer in model.layers:\n",
        "  layer.trainable = False\n",
        "model2.add(Flatten())\n",
        "model2.add(Dense(120, activation = 'softmax'))\n",
        "model2.compile(Adam(lr = .0001), loss = 'categorical_crossentropy', metrics = ['accuracy'])\n",
        "model2.fit(Xs, Ys, validation_split=.2, nb_epoch=50, batch_size=200, verbose=2)"
      ],
      "execution_count": 0,
      "outputs": [
        {
          "output_type": "stream",
          "text": [
            "/usr/local/lib/python3.6/dist-packages/keras/models.py:981: UserWarning: The `nb_epoch` argument in `fit` has been renamed `epochs`.\n",
            "  warnings.warn('The `nb_epoch` argument in `fit` '\n"
          ],
          "name": "stderr"
        },
        {
          "output_type": "stream",
          "text": [
            "Train on 8177 samples, validate on 2045 samples\n",
            "Epoch 1/50\n",
            " - 22s - loss: 4.8886 - acc: 0.0127 - val_loss: 4.7398 - val_acc: 0.0156\n",
            "Epoch 2/50\n",
            " - 22s - loss: 4.6262 - acc: 0.0361 - val_loss: 4.6235 - val_acc: 0.0386\n",
            "Epoch 3/50\n",
            " - 22s - loss: 4.4560 - acc: 0.0711 - val_loss: 4.5236 - val_acc: 0.0523\n",
            "Epoch 4/50\n",
            " - 22s - loss: 4.3030 - acc: 0.1015 - val_loss: 4.4376 - val_acc: 0.0714\n",
            "Epoch 5/50\n",
            " - 22s - loss: 4.1610 - acc: 0.1393 - val_loss: 4.3609 - val_acc: 0.0797\n",
            "Epoch 6/50\n",
            " - 22s - loss: 4.0341 - acc: 0.1697 - val_loss: 4.2942 - val_acc: 0.0924\n",
            "Epoch 7/50\n",
            " - 22s - loss: 3.9144 - acc: 0.1951 - val_loss: 4.2322 - val_acc: 0.0973\n",
            "Epoch 8/50\n",
            " - 22s - loss: 3.8040 - acc: 0.2327 - val_loss: 4.1867 - val_acc: 0.1066\n",
            "Epoch 9/50\n",
            " - 22s - loss: 3.7007 - acc: 0.2492 - val_loss: 4.1367 - val_acc: 0.1154\n",
            "Epoch 10/50\n",
            " - 22s - loss: 3.6026 - acc: 0.2823 - val_loss: 4.0925 - val_acc: 0.1242\n",
            "Epoch 11/50\n",
            " - 22s - loss: 3.5126 - acc: 0.3038 - val_loss: 4.0556 - val_acc: 0.1296\n",
            "Epoch 12/50\n",
            " - 22s - loss: 3.4263 - acc: 0.3276 - val_loss: 4.0193 - val_acc: 0.1355\n",
            "Epoch 13/50\n",
            " - 22s - loss: 3.3450 - acc: 0.3444 - val_loss: 3.9905 - val_acc: 0.1384\n",
            "Epoch 14/50\n",
            " - 22s - loss: 3.2685 - acc: 0.3682 - val_loss: 3.9631 - val_acc: 0.1394\n",
            "Epoch 15/50\n",
            " - 22s - loss: 3.1951 - acc: 0.3822 - val_loss: 3.9346 - val_acc: 0.1491\n",
            "Epoch 16/50\n",
            " - 22s - loss: 3.1274 - acc: 0.4008 - val_loss: 3.9167 - val_acc: 0.1457\n",
            "Epoch 17/50\n",
            " - 22s - loss: 3.0588 - acc: 0.4173 - val_loss: 3.8901 - val_acc: 0.1501\n",
            "Epoch 18/50\n",
            " - 22s - loss: 2.9959 - acc: 0.4324 - val_loss: 3.8691 - val_acc: 0.1521\n",
            "Epoch 19/50\n",
            " - 22s - loss: 2.9347 - acc: 0.4494 - val_loss: 3.8530 - val_acc: 0.1560\n",
            "Epoch 20/50\n",
            " - 22s - loss: 2.8748 - acc: 0.4602 - val_loss: 3.8351 - val_acc: 0.1560\n",
            "Epoch 21/50\n",
            " - 22s - loss: 2.8170 - acc: 0.4811 - val_loss: 3.8205 - val_acc: 0.1623\n",
            "Epoch 22/50\n",
            " - 22s - loss: 2.7636 - acc: 0.4870 - val_loss: 3.8062 - val_acc: 0.1604\n",
            "Epoch 23/50\n",
            " - 22s - loss: 2.7114 - acc: 0.5030 - val_loss: 3.7898 - val_acc: 0.1604\n",
            "Epoch 24/50\n",
            " - 22s - loss: 2.6597 - acc: 0.5185 - val_loss: 3.7781 - val_acc: 0.1619\n",
            "Epoch 25/50\n",
            " - 22s - loss: 2.6108 - acc: 0.5260 - val_loss: 3.7664 - val_acc: 0.1594\n",
            "Epoch 26/50\n",
            " - 22s - loss: 2.5626 - acc: 0.5379 - val_loss: 3.7548 - val_acc: 0.1663\n",
            "Epoch 27/50\n",
            " - 22s - loss: 2.5176 - acc: 0.5514 - val_loss: 3.7421 - val_acc: 0.1682\n",
            "Epoch 28/50\n",
            " - 22s - loss: 2.4722 - acc: 0.5601 - val_loss: 3.7356 - val_acc: 0.1711\n",
            "Epoch 29/50\n",
            " - 22s - loss: 2.4280 - acc: 0.5740 - val_loss: 3.7273 - val_acc: 0.1682\n",
            "Epoch 30/50\n",
            " - 22s - loss: 2.3857 - acc: 0.5807 - val_loss: 3.7176 - val_acc: 0.1736\n",
            "Epoch 31/50\n",
            " - 22s - loss: 2.3451 - acc: 0.5930 - val_loss: 3.7095 - val_acc: 0.1716\n",
            "Epoch 32/50\n",
            " - 22s - loss: 2.3058 - acc: 0.6001 - val_loss: 3.7055 - val_acc: 0.1697\n",
            "Epoch 33/50\n",
            " - 22s - loss: 2.2657 - acc: 0.6084 - val_loss: 3.6955 - val_acc: 0.1751\n",
            "Epoch 34/50\n"
          ],
          "name": "stdout"
        },
        {
          "output_type": "stream",
          "text": [
            " - 22s - loss: 2.2275 - acc: 0.6181 - val_loss: 3.6932 - val_acc: 0.1804\n",
            "Epoch 35/50\n",
            " - 22s - loss: 2.1900 - acc: 0.6293 - val_loss: 3.6847 - val_acc: 0.1765\n",
            "Epoch 36/50\n",
            " - 22s - loss: 2.1539 - acc: 0.6384 - val_loss: 3.6803 - val_acc: 0.1726\n",
            "Epoch 37/50\n",
            " - 22s - loss: 2.1183 - acc: 0.6473 - val_loss: 3.6752 - val_acc: 0.1751\n",
            "Epoch 38/50\n",
            " - 22s - loss: 2.0838 - acc: 0.6554 - val_loss: 3.6692 - val_acc: 0.1775\n",
            "Epoch 39/50\n",
            " - 22s - loss: 2.0496 - acc: 0.6632 - val_loss: 3.6672 - val_acc: 0.1844\n",
            "Epoch 40/50\n",
            " - 22s - loss: 2.0171 - acc: 0.6697 - val_loss: 3.6608 - val_acc: 0.1790\n",
            "Epoch 41/50\n",
            " - 22s - loss: 1.9850 - acc: 0.6807 - val_loss: 3.6612 - val_acc: 0.1746\n",
            "Epoch 42/50\n",
            " - 22s - loss: 1.9524 - acc: 0.6869 - val_loss: 3.6515 - val_acc: 0.1814\n",
            "Epoch 43/50\n",
            " - 22s - loss: 1.9223 - acc: 0.6974 - val_loss: 3.6504 - val_acc: 0.1804\n",
            "Epoch 44/50\n",
            " - 22s - loss: 1.8918 - acc: 0.7022 - val_loss: 3.6500 - val_acc: 0.1785\n",
            "Epoch 45/50\n",
            " - 22s - loss: 1.8618 - acc: 0.7103 - val_loss: 3.6448 - val_acc: 0.1795\n",
            "Epoch 46/50\n",
            " - 22s - loss: 1.8325 - acc: 0.7175 - val_loss: 3.6421 - val_acc: 0.1809\n",
            "Epoch 47/50\n",
            " - 22s - loss: 1.8048 - acc: 0.7234 - val_loss: 3.6370 - val_acc: 0.1785\n",
            "Epoch 48/50\n",
            " - 22s - loss: 1.7767 - acc: 0.7319 - val_loss: 3.6366 - val_acc: 0.1800\n",
            "Epoch 49/50\n",
            " - 22s - loss: 1.7500 - acc: 0.7369 - val_loss: 3.6378 - val_acc: 0.1785\n",
            "Epoch 50/50\n",
            " - 22s - loss: 1.7232 - acc: 0.7493 - val_loss: 3.6365 - val_acc: 0.1824\n"
          ],
          "name": "stdout"
        },
        {
          "output_type": "execute_result",
          "data": {
            "text/plain": [
              "<keras.callbacks.History at 0x7f4f868aacf8>"
            ]
          },
          "metadata": {
            "tags": []
          },
          "execution_count": 50
        }
      ]
    },
    {
      "metadata": {
        "id": "Vn8_JZeUu0rE",
        "colab_type": "text"
      },
      "cell_type": "markdown",
      "source": [
        "This yielded very similar results. I think the next step is to perform image augmentation, and perhaps combine multiple pre-trained models. I'm going to work on that in the near future and re-submit results."
      ]
    },
    {
      "metadata": {
        "id": "_JD6780w26g8",
        "colab_type": "text"
      },
      "cell_type": "markdown",
      "source": [
        "## Submission\n",
        "I'm going to submit the first vgg16 model that we created, because that model yielded the best validation accuracy. First we need to upload the \"Sample_submission.csv\" file so we can format our submission correctly for Kaggle."
      ]
    },
    {
      "metadata": {
        "id": "veQupVZR7Azz",
        "colab_type": "code",
        "colab": {
          "autoexec": {
            "startup": false,
            "wait_interval": 0
          }
        }
      },
      "cell_type": "code",
      "source": [
        "#Get relevant working directory.\n",
        "os.chdir('/content/my_drive/tut_kaggle/')"
      ],
      "execution_count": 0,
      "outputs": []
    },
    {
      "metadata": {
        "id": "YFL8klND7Zpq",
        "colab_type": "code",
        "colab": {
          "autoexec": {
            "startup": false,
            "wait_interval": 0
          },
          "base_uri": "https://localhost:8080/",
          "height": 51
        },
        "outputId": "31944a13-de51-4aa0-9ae1-c13d487085df",
        "executionInfo": {
          "status": "ok",
          "timestamp": 1525634027779,
          "user_tz": 420,
          "elapsed": 1742,
          "user": {
            "displayName": "Billy Hansen",
            "photoUrl": "https://lh3.googleusercontent.com/a/default-user=s128",
            "userId": "111313721956128051765"
          }
        }
      },
      "cell_type": "code",
      "source": [
        "ls"
      ],
      "execution_count": 67,
      "outputs": [
        {
          "output_type": "stream",
          "text": [
            "labels.csv  sample_submission.csv  testdata2.hdf5  testdata.hdf5\r\n",
            "\u001b[0m\u001b[01;34mmy_drive\u001b[0m/   submission2.csv        testdata3.hdf5  \u001b[01;34mtrain\u001b[0m/\r\n"
          ],
          "name": "stdout"
        }
      ]
    },
    {
      "metadata": {
        "id": "j_6OxTzf7KNH",
        "colab_type": "code",
        "colab": {
          "autoexec": {
            "startup": false,
            "wait_interval": 0
          }
        }
      },
      "cell_type": "code",
      "source": [
        "# Upload file.\n",
        "test_data = pd.read_csv('sample_submission.csv')\n",
        "# Create numpy array\n",
        "test_data2 = np.array(test_data)\n",
        "# Make predictions\n",
        "predictions = model.predict(test, verbose = 2)"
      ],
      "execution_count": 0,
      "outputs": []
    },
    {
      "metadata": {
        "id": "i6DdxmreenZd",
        "colab_type": "code",
        "colab": {
          "autoexec": {
            "startup": false,
            "wait_interval": 0
          },
          "base_uri": "https://localhost:8080/",
          "height": 349
        },
        "outputId": "3b542913-467b-4327-9920-08b6f7d51065",
        "executionInfo": {
          "status": "ok",
          "timestamp": 1525634642344,
          "user_tz": 420,
          "elapsed": 487,
          "user": {
            "displayName": "Billy Hansen",
            "photoUrl": "https://lh3.googleusercontent.com/a/default-user=s128",
            "userId": "111313721956128051765"
          }
        }
      },
      "cell_type": "code",
      "source": [
        "# Create dataframe\n",
        "submission_results = pd.DataFrame(predictions, columns = uniquelabels)\n",
        "submission_results.head(5)"
      ],
      "execution_count": 105,
      "outputs": [
        {
          "output_type": "execute_result",
          "data": {
            "text/html": [
              "<div>\n",
              "<style scoped>\n",
              "    .dataframe tbody tr th:only-of-type {\n",
              "        vertical-align: middle;\n",
              "    }\n",
              "\n",
              "    .dataframe tbody tr th {\n",
              "        vertical-align: top;\n",
              "    }\n",
              "\n",
              "    .dataframe thead th {\n",
              "        text-align: right;\n",
              "    }\n",
              "</style>\n",
              "<table border=\"1\" class=\"dataframe\">\n",
              "  <thead>\n",
              "    <tr style=\"text-align: right;\">\n",
              "      <th></th>\n",
              "      <th>affenpinscher</th>\n",
              "      <th>afghan_hound</th>\n",
              "      <th>african_hunting_dog</th>\n",
              "      <th>airedale</th>\n",
              "      <th>american_staffordshire_terrier</th>\n",
              "      <th>appenzeller</th>\n",
              "      <th>australian_terrier</th>\n",
              "      <th>basenji</th>\n",
              "      <th>basset</th>\n",
              "      <th>beagle</th>\n",
              "      <th>...</th>\n",
              "      <th>toy_poodle</th>\n",
              "      <th>toy_terrier</th>\n",
              "      <th>vizsla</th>\n",
              "      <th>walker_hound</th>\n",
              "      <th>weimaraner</th>\n",
              "      <th>welsh_springer_spaniel</th>\n",
              "      <th>west_highland_white_terrier</th>\n",
              "      <th>whippet</th>\n",
              "      <th>wire-haired_fox_terrier</th>\n",
              "      <th>yorkshire_terrier</th>\n",
              "    </tr>\n",
              "  </thead>\n",
              "  <tbody>\n",
              "    <tr>\n",
              "      <th>0</th>\n",
              "      <td>1.029871e-07</td>\n",
              "      <td>0.026485</td>\n",
              "      <td>2.854992e-07</td>\n",
              "      <td>0.000062</td>\n",
              "      <td>0.001684</td>\n",
              "      <td>0.000121</td>\n",
              "      <td>3.374169e-07</td>\n",
              "      <td>1.374754e-05</td>\n",
              "      <td>4.563775e-01</td>\n",
              "      <td>1.939865e-03</td>\n",
              "      <td>...</td>\n",
              "      <td>8.067838e-07</td>\n",
              "      <td>0.000656</td>\n",
              "      <td>2.627414e-04</td>\n",
              "      <td>4.675019e-04</td>\n",
              "      <td>1.794072e-02</td>\n",
              "      <td>2.122698e-01</td>\n",
              "      <td>0.000008</td>\n",
              "      <td>0.002014</td>\n",
              "      <td>0.000292</td>\n",
              "      <td>0.000195</td>\n",
              "    </tr>\n",
              "    <tr>\n",
              "      <th>1</th>\n",
              "      <td>1.806938e-07</td>\n",
              "      <td>0.000003</td>\n",
              "      <td>1.184056e-04</td>\n",
              "      <td>0.000002</td>\n",
              "      <td>0.000051</td>\n",
              "      <td>0.000003</td>\n",
              "      <td>1.036907e-05</td>\n",
              "      <td>1.378143e-05</td>\n",
              "      <td>8.925340e-09</td>\n",
              "      <td>1.054341e-05</td>\n",
              "      <td>...</td>\n",
              "      <td>2.200061e-04</td>\n",
              "      <td>0.044369</td>\n",
              "      <td>1.343714e-08</td>\n",
              "      <td>3.002345e-06</td>\n",
              "      <td>1.405251e-07</td>\n",
              "      <td>7.337637e-08</td>\n",
              "      <td>0.000534</td>\n",
              "      <td>0.000449</td>\n",
              "      <td>0.000327</td>\n",
              "      <td>0.000015</td>\n",
              "    </tr>\n",
              "    <tr>\n",
              "      <th>2</th>\n",
              "      <td>1.904248e-03</td>\n",
              "      <td>0.272561</td>\n",
              "      <td>1.852485e-05</td>\n",
              "      <td>0.058012</td>\n",
              "      <td>0.002223</td>\n",
              "      <td>0.000452</td>\n",
              "      <td>2.706125e-04</td>\n",
              "      <td>3.499547e-03</td>\n",
              "      <td>4.023209e-05</td>\n",
              "      <td>3.927479e-04</td>\n",
              "      <td>...</td>\n",
              "      <td>1.006897e-04</td>\n",
              "      <td>0.004071</td>\n",
              "      <td>1.257403e-02</td>\n",
              "      <td>2.602124e-03</td>\n",
              "      <td>7.762283e-03</td>\n",
              "      <td>7.978727e-05</td>\n",
              "      <td>0.002640</td>\n",
              "      <td>0.014782</td>\n",
              "      <td>0.000072</td>\n",
              "      <td>0.000026</td>\n",
              "    </tr>\n",
              "    <tr>\n",
              "      <th>3</th>\n",
              "      <td>1.016047e-04</td>\n",
              "      <td>0.044698</td>\n",
              "      <td>3.835119e-07</td>\n",
              "      <td>0.000539</td>\n",
              "      <td>0.000027</td>\n",
              "      <td>0.050531</td>\n",
              "      <td>7.081648e-05</td>\n",
              "      <td>1.309693e-02</td>\n",
              "      <td>3.237206e-05</td>\n",
              "      <td>5.393479e-05</td>\n",
              "      <td>...</td>\n",
              "      <td>1.284746e-03</td>\n",
              "      <td>0.000095</td>\n",
              "      <td>1.080312e-03</td>\n",
              "      <td>3.034509e-05</td>\n",
              "      <td>6.162182e-04</td>\n",
              "      <td>7.327430e-04</td>\n",
              "      <td>0.000003</td>\n",
              "      <td>0.060730</td>\n",
              "      <td>0.000052</td>\n",
              "      <td>0.052821</td>\n",
              "    </tr>\n",
              "    <tr>\n",
              "      <th>4</th>\n",
              "      <td>5.974626e-05</td>\n",
              "      <td>0.001180</td>\n",
              "      <td>9.322139e-06</td>\n",
              "      <td>0.071071</td>\n",
              "      <td>0.000632</td>\n",
              "      <td>0.000001</td>\n",
              "      <td>4.499826e-04</td>\n",
              "      <td>2.277100e-07</td>\n",
              "      <td>5.235880e-05</td>\n",
              "      <td>7.682187e-07</td>\n",
              "      <td>...</td>\n",
              "      <td>1.048045e-03</td>\n",
              "      <td>0.000002</td>\n",
              "      <td>4.424807e-05</td>\n",
              "      <td>9.222081e-07</td>\n",
              "      <td>1.680054e-05</td>\n",
              "      <td>3.747632e-07</td>\n",
              "      <td>0.001351</td>\n",
              "      <td>0.000007</td>\n",
              "      <td>0.004272</td>\n",
              "      <td>0.000069</td>\n",
              "    </tr>\n",
              "  </tbody>\n",
              "</table>\n",
              "<p>5 rows × 120 columns</p>\n",
              "</div>"
            ],
            "text/plain": [
              "   affenpinscher  afghan_hound  african_hunting_dog  airedale  \\\n",
              "0   1.029871e-07      0.026485         2.854992e-07  0.000062   \n",
              "1   1.806938e-07      0.000003         1.184056e-04  0.000002   \n",
              "2   1.904248e-03      0.272561         1.852485e-05  0.058012   \n",
              "3   1.016047e-04      0.044698         3.835119e-07  0.000539   \n",
              "4   5.974626e-05      0.001180         9.322139e-06  0.071071   \n",
              "\n",
              "   american_staffordshire_terrier  appenzeller  australian_terrier  \\\n",
              "0                        0.001684     0.000121        3.374169e-07   \n",
              "1                        0.000051     0.000003        1.036907e-05   \n",
              "2                        0.002223     0.000452        2.706125e-04   \n",
              "3                        0.000027     0.050531        7.081648e-05   \n",
              "4                        0.000632     0.000001        4.499826e-04   \n",
              "\n",
              "        basenji        basset        beagle        ...            toy_poodle  \\\n",
              "0  1.374754e-05  4.563775e-01  1.939865e-03        ...          8.067838e-07   \n",
              "1  1.378143e-05  8.925340e-09  1.054341e-05        ...          2.200061e-04   \n",
              "2  3.499547e-03  4.023209e-05  3.927479e-04        ...          1.006897e-04   \n",
              "3  1.309693e-02  3.237206e-05  5.393479e-05        ...          1.284746e-03   \n",
              "4  2.277100e-07  5.235880e-05  7.682187e-07        ...          1.048045e-03   \n",
              "\n",
              "   toy_terrier        vizsla  walker_hound    weimaraner  \\\n",
              "0     0.000656  2.627414e-04  4.675019e-04  1.794072e-02   \n",
              "1     0.044369  1.343714e-08  3.002345e-06  1.405251e-07   \n",
              "2     0.004071  1.257403e-02  2.602124e-03  7.762283e-03   \n",
              "3     0.000095  1.080312e-03  3.034509e-05  6.162182e-04   \n",
              "4     0.000002  4.424807e-05  9.222081e-07  1.680054e-05   \n",
              "\n",
              "   welsh_springer_spaniel  west_highland_white_terrier   whippet  \\\n",
              "0            2.122698e-01                     0.000008  0.002014   \n",
              "1            7.337637e-08                     0.000534  0.000449   \n",
              "2            7.978727e-05                     0.002640  0.014782   \n",
              "3            7.327430e-04                     0.000003  0.060730   \n",
              "4            3.747632e-07                     0.001351  0.000007   \n",
              "\n",
              "   wire-haired_fox_terrier  yorkshire_terrier  \n",
              "0                 0.000292           0.000195  \n",
              "1                 0.000327           0.000015  \n",
              "2                 0.000072           0.000026  \n",
              "3                 0.000052           0.052821  \n",
              "4                 0.004272           0.000069  \n",
              "\n",
              "[5 rows x 120 columns]"
            ]
          },
          "metadata": {
            "tags": []
          },
          "execution_count": 105
        }
      ]
    },
    {
      "metadata": {
        "id": "d3GVJWcWesVp",
        "colab_type": "code",
        "colab": {
          "autoexec": {
            "startup": false,
            "wait_interval": 0
          }
        }
      },
      "cell_type": "code",
      "source": [
        "# Insert \"ID\" column\n",
        "submission_results.insert(0, 'id', test_data['id'])"
      ],
      "execution_count": 0,
      "outputs": []
    },
    {
      "metadata": {
        "id": "0t4iooMKfG_r",
        "colab_type": "code",
        "colab": {
          "autoexec": {
            "startup": false,
            "wait_interval": 0
          }
        }
      },
      "cell_type": "code",
      "source": [
        "# Create Submission .csv file\n",
        "submission_results.to_csv('Finalsubmission.csv', index=False)"
      ],
      "execution_count": 0,
      "outputs": []
    }
  ]
}